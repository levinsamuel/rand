{
 "cells": [
  {
   "cell_type": "code",
   "execution_count": 17,
   "metadata": {
    "ExecuteTime": {
     "end_time": "2018-12-19T01:24:24.304640Z",
     "start_time": "2018-12-19T01:24:24.301145Z"
    }
   },
   "outputs": [],
   "source": [
    "import numpy as np\n",
    "import pandas as pd\n",
    "import pprint\n",
    "import math"
   ]
  },
  {
   "cell_type": "code",
   "execution_count": null,
   "metadata": {
    "ExecuteTime": {
     "end_time": "2018-12-19T01:22:13.558432Z",
     "start_time": "2018-12-19T01:22:13.552940Z"
    }
   },
   "outputs": [],
   "source": [
    "s0 = pd.Series((1,2,3))"
   ]
  },
  {
   "cell_type": "code",
   "execution_count": null,
   "metadata": {
    "ExecuteTime": {
     "end_time": "2018-12-19T01:22:13.598867Z",
     "start_time": "2018-12-19T01:22:13.565916Z"
    }
   },
   "outputs": [],
   "source": [
    "s1 = pd.Series({'a': 12, 'b': 21, 's':1,'p':1000,'x':None})\n",
    "print(s1)\n",
    "print(s1.index)\n",
    "print(s1[1:3])\n",
    "print(s1[2:-1])"
   ]
  },
  {
   "cell_type": "code",
   "execution_count": null,
   "metadata": {
    "ExecuteTime": {
     "end_time": "2018-12-19T01:22:13.639783Z",
     "start_time": "2018-12-19T01:22:13.602850Z"
    }
   },
   "outputs": [],
   "source": [
    "df0 = pd.DataFrame(s1)\n",
    "df0"
   ]
  },
  {
   "cell_type": "code",
   "execution_count": null,
   "metadata": {
    "ExecuteTime": {
     "end_time": "2018-12-19T01:22:13.674714Z",
     "start_time": "2018-12-19T01:22:13.645768Z"
    }
   },
   "outputs": [],
   "source": [
    "dfA = pd.DataFrame({'A': range(3), 'B': 'text', 'C': [1,2,4]}, index=['one', 'two', 'three'])\n",
    "print(dfA)\n",
    "dfA[dfA['C'] == 2]"
   ]
  },
  {
   "cell_type": "code",
   "execution_count": null,
   "metadata": {
    "ExecuteTime": {
     "end_time": "2018-12-19T01:22:13.705657Z",
     "start_time": "2018-12-19T01:22:13.678708Z"
    }
   },
   "outputs": [],
   "source": [
    "df1 = pd.DataFrame(np.random.randn(5,3), columns=['weight', 'size', 'entropy'])\n",
    "s2 = pd.Series([1,1,2], index=['weight', 'entropy','size'])\n",
    "print(df1, s2, sep='\\n\\n')\n",
    "print()\n",
    "print(df1*s2)"
   ]
  },
  {
   "cell_type": "code",
   "execution_count": null,
   "metadata": {
    "ExecuteTime": {
     "end_time": "2018-12-19T01:22:13.727616Z",
     "start_time": "2018-12-19T01:22:13.716638Z"
    }
   },
   "outputs": [],
   "source": [
    "print(df1.index)\n",
    "print(df1.columns)\n",
    "print(df1.values)\n",
    "print(type(df1.values))"
   ]
  },
  {
   "cell_type": "code",
   "execution_count": null,
   "metadata": {
    "ExecuteTime": {
     "end_time": "2018-12-19T01:22:13.808964Z",
     "start_time": "2018-12-19T01:22:13.731611Z"
    }
   },
   "outputs": [],
   "source": [
    "print(df1.describe())\n",
    "print(type(df1.describe()))\n",
    "# help(pd.period_range)"
   ]
  },
  {
   "cell_type": "code",
   "execution_count": null,
   "metadata": {
    "ExecuteTime": {
     "end_time": "2018-12-19T01:22:13.835415Z",
     "start_time": "2018-12-19T01:22:13.814455Z"
    }
   },
   "outputs": [],
   "source": [
    "df = pd.DataFrame(np.random.randn(5,3), index=list('ABCDE'), columns=['money', 'time', 'reward'])\n",
    "df"
   ]
  },
  {
   "cell_type": "code",
   "execution_count": null,
   "metadata": {
    "ExecuteTime": {
     "end_time": "2018-12-19T01:22:13.867356Z",
     "start_time": "2018-12-19T01:22:13.838410Z"
    }
   },
   "outputs": [],
   "source": [
    "print(df.loc[:'C',['time', 'reward']])\n",
    "print()\n",
    "# print(df['A']) ERROR\n",
    "print (df[1:2])\n",
    "print()\n",
    "print (df.loc['A'])\n",
    "print()\n",
    "print (df.iloc[1:4])"
   ]
  },
  {
   "cell_type": "code",
   "execution_count": null,
   "metadata": {
    "ExecuteTime": {
     "end_time": "2018-12-19T01:22:13.879333Z",
     "start_time": "2018-12-19T01:22:13.870350Z"
    }
   },
   "outputs": [],
   "source": [
    "print(len(df))\n",
    "print(df.shape[0])\n",
    "print(df.shape[1])\n",
    "print(np.arange(2, 5))\n",
    "print(np.zeros(2,))"
   ]
  },
  {
   "cell_type": "code",
   "execution_count": null,
   "metadata": {
    "ExecuteTime": {
     "end_time": "2018-12-19T01:22:13.904287Z",
     "start_time": "2018-12-19T01:22:13.883326Z"
    }
   },
   "outputs": [],
   "source": [
    "td = {('a', 'b'): 1, ('a', 'a'): 2}\n",
    "pprint.pprint(td)\n",
    "pprint.pprint(td[('a', 'b')])"
   ]
  },
  {
   "cell_type": "code",
   "execution_count": 18,
   "metadata": {
    "ExecuteTime": {
     "end_time": "2018-12-19T01:24:35.528989Z",
     "start_time": "2018-12-19T01:24:35.521505Z"
    }
   },
   "outputs": [
    {
     "data": {
      "text/plain": [
       "array([[nan, nan, nan, nan, nan],\n",
       "       [nan, nan, nan, nan, nan],\n",
       "       [nan, nan, nan, nan, nan],\n",
       "       [nan, nan, nan, nan, nan],\n",
       "       [nan, nan, nan, nan, nan]])"
      ]
     },
     "execution_count": 18,
     "metadata": {},
     "output_type": "execute_result"
    }
   ],
   "source": [
    "ea = np.full((5,5), math.nan)\n",
    "ea"
   ]
  }
 ],
 "metadata": {
  "kernelspec": {
   "display_name": "Python 3",
   "language": "python",
   "name": "python3"
  },
  "language_info": {
   "codemirror_mode": {
    "name": "ipython",
    "version": 3
   },
   "file_extension": ".py",
   "mimetype": "text/x-python",
   "name": "python",
   "nbconvert_exporter": "python",
   "pygments_lexer": "ipython3",
   "version": "3.6.5"
  }
 },
 "nbformat": 4,
 "nbformat_minor": 2
}

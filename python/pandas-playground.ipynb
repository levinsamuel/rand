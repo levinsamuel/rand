{
 "cells": [
  {
   "cell_type": "code",
   "execution_count": 30,
   "metadata": {
    "ExecuteTime": {
     "end_time": "2018-12-14T04:19:48.606940Z",
     "start_time": "2018-12-14T04:19:48.603945Z"
    }
   },
   "outputs": [],
   "source": [
    "import numpy as np\n",
    "import pandas as pd\n",
    "import pprint"
   ]
  },
  {
   "cell_type": "code",
   "execution_count": 11,
   "metadata": {
    "ExecuteTime": {
     "end_time": "2018-12-13T22:55:28.854313Z",
     "start_time": "2018-12-13T22:55:28.846819Z"
    }
   },
   "outputs": [],
   "source": [
    "s0 = pd.Series((1,2,3))"
   ]
  },
  {
   "cell_type": "code",
   "execution_count": 9,
   "metadata": {
    "ExecuteTime": {
     "end_time": "2018-12-13T22:54:20.023170Z",
     "start_time": "2018-12-13T22:54:20.007699Z"
    }
   },
   "outputs": [
    {
     "name": "stdout",
     "output_type": "stream",
     "text": [
      "a      12.0\n",
      "b      21.0\n",
      "s       1.0\n",
      "p    1000.0\n",
      "x       NaN\n",
      "dtype: float64\n",
      "Index(['a', 'b', 's', 'p', 'x'], dtype='object')\n",
      "b    21.0\n",
      "s     1.0\n",
      "dtype: float64\n",
      "s       1.0\n",
      "p    1000.0\n",
      "dtype: float64\n"
     ]
    }
   ],
   "source": [
    "s1 = pd.Series({'a': 12, 'b': 21, 's':1,'p':1000,'x':None})\n",
    "print(s1)\n",
    "print(s1.index)\n",
    "print(s1[1:3])\n",
    "print(s1[2:-1])"
   ]
  },
  {
   "cell_type": "code",
   "execution_count": 27,
   "metadata": {
    "ExecuteTime": {
     "end_time": "2018-12-14T00:30:11.443675Z",
     "start_time": "2018-12-14T00:30:11.430218Z"
    }
   },
   "outputs": [
    {
     "data": {
      "text/html": [
       "<div>\n",
       "<style scoped>\n",
       "    .dataframe tbody tr th:only-of-type {\n",
       "        vertical-align: middle;\n",
       "    }\n",
       "\n",
       "    .dataframe tbody tr th {\n",
       "        vertical-align: top;\n",
       "    }\n",
       "\n",
       "    .dataframe thead th {\n",
       "        text-align: right;\n",
       "    }\n",
       "</style>\n",
       "<table border=\"1\" class=\"dataframe\">\n",
       "  <thead>\n",
       "    <tr style=\"text-align: right;\">\n",
       "      <th></th>\n",
       "      <th>0</th>\n",
       "    </tr>\n",
       "  </thead>\n",
       "  <tbody>\n",
       "    <tr>\n",
       "      <th>a</th>\n",
       "      <td>12.0</td>\n",
       "    </tr>\n",
       "    <tr>\n",
       "      <th>b</th>\n",
       "      <td>21.0</td>\n",
       "    </tr>\n",
       "    <tr>\n",
       "      <th>s</th>\n",
       "      <td>1.0</td>\n",
       "    </tr>\n",
       "    <tr>\n",
       "      <th>p</th>\n",
       "      <td>1000.0</td>\n",
       "    </tr>\n",
       "    <tr>\n",
       "      <th>x</th>\n",
       "      <td>NaN</td>\n",
       "    </tr>\n",
       "  </tbody>\n",
       "</table>\n",
       "</div>"
      ],
      "text/plain": [
       "        0\n",
       "a    12.0\n",
       "b    21.0\n",
       "s     1.0\n",
       "p  1000.0\n",
       "x     NaN"
      ]
     },
     "execution_count": 27,
     "metadata": {},
     "output_type": "execute_result"
    }
   ],
   "source": [
    "df0 = pd.DataFrame(s1)\n",
    "df0"
   ]
  },
  {
   "cell_type": "code",
   "execution_count": 20,
   "metadata": {
    "ExecuteTime": {
     "end_time": "2018-12-14T00:24:28.515013Z",
     "start_time": "2018-12-14T00:24:28.487565Z"
    }
   },
   "outputs": [
    {
     "name": "stdout",
     "output_type": "stream",
     "text": [
      "       A     B  C\n",
      "one    0  text  1\n",
      "two    1  text  2\n",
      "three  2  text  4\n"
     ]
    },
    {
     "data": {
      "text/html": [
       "<div>\n",
       "<style scoped>\n",
       "    .dataframe tbody tr th:only-of-type {\n",
       "        vertical-align: middle;\n",
       "    }\n",
       "\n",
       "    .dataframe tbody tr th {\n",
       "        vertical-align: top;\n",
       "    }\n",
       "\n",
       "    .dataframe thead th {\n",
       "        text-align: right;\n",
       "    }\n",
       "</style>\n",
       "<table border=\"1\" class=\"dataframe\">\n",
       "  <thead>\n",
       "    <tr style=\"text-align: right;\">\n",
       "      <th></th>\n",
       "      <th>A</th>\n",
       "      <th>B</th>\n",
       "      <th>C</th>\n",
       "    </tr>\n",
       "  </thead>\n",
       "  <tbody>\n",
       "    <tr>\n",
       "      <th>two</th>\n",
       "      <td>1</td>\n",
       "      <td>text</td>\n",
       "      <td>2</td>\n",
       "    </tr>\n",
       "  </tbody>\n",
       "</table>\n",
       "</div>"
      ],
      "text/plain": [
       "     A     B  C\n",
       "two  1  text  2"
      ]
     },
     "execution_count": 20,
     "metadata": {},
     "output_type": "execute_result"
    }
   ],
   "source": [
    "dfA = pd.DataFrame({'A': range(3), 'B': 'text', 'C': [1,2,4]}, index=['one', 'two', 'three'])\n",
    "print(dfA)\n",
    "dfA[dfA['C'] == 2]"
   ]
  },
  {
   "cell_type": "code",
   "execution_count": 25,
   "metadata": {
    "ExecuteTime": {
     "end_time": "2018-12-14T00:29:24.375604Z",
     "start_time": "2018-12-14T00:29:24.349647Z"
    }
   },
   "outputs": [
    {
     "name": "stdout",
     "output_type": "stream",
     "text": [
      "     weight      size   entropy\n",
      "0  1.162001  0.096956  0.547441\n",
      "1 -1.398634 -0.644761 -0.667286\n",
      "2  0.864093 -1.737677 -1.013974\n",
      "3 -1.352219 -0.117969  0.375469\n",
      "4  0.104815  1.686209  1.415251\n",
      "\n",
      "weight     1\n",
      "entropy    1\n",
      "size       2\n",
      "dtype: int64\n",
      "\n",
      "    entropy      size    weight\n",
      "0  0.547441  0.193912  1.162001\n",
      "1 -0.667286 -1.289521 -1.398634\n",
      "2 -1.013974 -3.475354  0.864093\n",
      "3  0.375469 -0.235939 -1.352219\n",
      "4  1.415251  3.372418  0.104815\n"
     ]
    }
   ],
   "source": [
    "df1 = pd.DataFrame(np.random.randn(5,3), columns=['weight', 'size', 'entropy'])\n",
    "s2 = pd.Series([1,1,2], index=['weight', 'entropy','size'])\n",
    "print(df1, s2, sep='\\n\\n')\n",
    "print()\n",
    "print(df1*s2)"
   ]
  },
  {
   "cell_type": "code",
   "execution_count": 20,
   "metadata": {},
   "outputs": [
    {
     "name": "stdout",
     "output_type": "stream",
     "text": [
      "RangeIndex(start=0, stop=5, step=1)\n",
      "RangeIndex(start=0, stop=3, step=1)\n",
      "[[ 0.02956917  1.43777838  2.48011121]\n",
      " [ 0.38976956  0.5711733  -0.44538652]\n",
      " [-1.68713377  0.25834374  0.91158027]\n",
      " [-0.63219733 -0.95991771 -0.5139165 ]\n",
      " [ 0.28474655  0.26286086 -0.79172293]]\n",
      "<class 'numpy.ndarray'>\n"
     ]
    }
   ],
   "source": [
    "print(df.index)\n",
    "print(df.columns)\n",
    "print(df.values)\n",
    "print(type(df.values))"
   ]
  },
  {
   "cell_type": "code",
   "execution_count": 57,
   "metadata": {},
   "outputs": [
    {
     "name": "stdout",
     "output_type": "stream",
     "text": [
      "          money      time    reward\n",
      "count  5.000000  5.000000  5.000000\n",
      "mean   0.338331  0.472040  0.257123\n",
      "std    1.027186  1.660097  1.359074\n",
      "min   -0.628995 -1.547222 -1.364060\n",
      "25%   -0.223191 -1.130512 -0.940734\n",
      "50%   -0.124213  1.618601  0.529012\n",
      "75%    0.712479  1.703934  1.470163\n",
      "max    1.955577  1.715397  1.591232\n",
      "<class 'pandas.core.frame.DataFrame'>\n"
     ]
    }
   ],
   "source": [
    "print(df.describe())\n",
    "print(type(df.describe()))\n",
    "# help(pd.period_range)"
   ]
  },
  {
   "cell_type": "code",
   "execution_count": 24,
   "metadata": {
    "ExecuteTime": {
     "end_time": "2018-12-14T00:28:06.635703Z",
     "start_time": "2018-12-14T00:28:06.617735Z"
    }
   },
   "outputs": [
    {
     "data": {
      "text/html": [
       "<div>\n",
       "<style scoped>\n",
       "    .dataframe tbody tr th:only-of-type {\n",
       "        vertical-align: middle;\n",
       "    }\n",
       "\n",
       "    .dataframe tbody tr th {\n",
       "        vertical-align: top;\n",
       "    }\n",
       "\n",
       "    .dataframe thead th {\n",
       "        text-align: right;\n",
       "    }\n",
       "</style>\n",
       "<table border=\"1\" class=\"dataframe\">\n",
       "  <thead>\n",
       "    <tr style=\"text-align: right;\">\n",
       "      <th></th>\n",
       "      <th>money</th>\n",
       "      <th>time</th>\n",
       "      <th>reward</th>\n",
       "    </tr>\n",
       "  </thead>\n",
       "  <tbody>\n",
       "    <tr>\n",
       "      <th>A</th>\n",
       "      <td>0.469530</td>\n",
       "      <td>-1.066536</td>\n",
       "      <td>-1.032034</td>\n",
       "    </tr>\n",
       "    <tr>\n",
       "      <th>B</th>\n",
       "      <td>1.848790</td>\n",
       "      <td>-1.109587</td>\n",
       "      <td>0.014415</td>\n",
       "    </tr>\n",
       "    <tr>\n",
       "      <th>C</th>\n",
       "      <td>-0.542110</td>\n",
       "      <td>-0.863753</td>\n",
       "      <td>-0.797467</td>\n",
       "    </tr>\n",
       "    <tr>\n",
       "      <th>D</th>\n",
       "      <td>-0.446204</td>\n",
       "      <td>0.073051</td>\n",
       "      <td>-0.249687</td>\n",
       "    </tr>\n",
       "    <tr>\n",
       "      <th>E</th>\n",
       "      <td>-0.229727</td>\n",
       "      <td>-2.385274</td>\n",
       "      <td>0.196886</td>\n",
       "    </tr>\n",
       "  </tbody>\n",
       "</table>\n",
       "</div>"
      ],
      "text/plain": [
       "      money      time    reward\n",
       "A  0.469530 -1.066536 -1.032034\n",
       "B  1.848790 -1.109587  0.014415\n",
       "C -0.542110 -0.863753 -0.797467\n",
       "D -0.446204  0.073051 -0.249687\n",
       "E -0.229727 -2.385274  0.196886"
      ]
     },
     "execution_count": 24,
     "metadata": {},
     "output_type": "execute_result"
    }
   ],
   "source": [
    "df = pd.DataFrame(np.random.randn(5,3), index=list('ABCDE'), columns=['money', 'time', 'reward'])\n",
    "df"
   ]
  },
  {
   "cell_type": "code",
   "execution_count": 55,
   "metadata": {},
   "outputs": [
    {
     "name": "stdout",
     "output_type": "stream",
     "text": [
      "       time    reward\n",
      "A  1.703934  1.591232\n",
      "B -1.130512  1.470163\n",
      "C  1.715397 -0.940734\n",
      "\n",
      "      money      time    reward\n",
      "B  0.712479 -1.130512  1.470163\n",
      "\n",
      "money     1.955577\n",
      "time      1.703934\n",
      "reward    1.591232\n",
      "Name: A, dtype: float64\n",
      "\n",
      "      money      time    reward\n",
      "B  0.712479 -1.130512  1.470163\n",
      "C -0.223191  1.715397 -0.940734\n",
      "D -0.628995 -1.547222  0.529012\n"
     ]
    }
   ],
   "source": [
    "print(df.loc[:'C',['time', 'reward']])\n",
    "print()\n",
    "# print(df['A']) ERROR\n",
    "print (df[1:2])\n",
    "print()\n",
    "print (df.loc['A'])\n",
    "print()\n",
    "print (df.iloc[1:4])"
   ]
  },
  {
   "cell_type": "code",
   "execution_count": 29,
   "metadata": {
    "ExecuteTime": {
     "end_time": "2018-12-14T04:19:39.521875Z",
     "start_time": "2018-12-14T04:19:39.516885Z"
    }
   },
   "outputs": [
    {
     "name": "stdout",
     "output_type": "stream",
     "text": [
      "5\n",
      "5\n",
      "3\n",
      "[2 3 4]\n",
      "[0. 0.]\n"
     ]
    }
   ],
   "source": [
    "print(len(df))\n",
    "print(df.shape[0])\n",
    "print(df.shape[1])\n",
    "print(np.arange(2, 5))\n",
    "print(np.zeros(2,))"
   ]
  },
  {
   "cell_type": "code",
   "execution_count": 33,
   "metadata": {
    "ExecuteTime": {
     "end_time": "2018-12-14T04:21:11.634482Z",
     "start_time": "2018-12-14T04:21:11.629991Z"
    }
   },
   "outputs": [
    {
     "name": "stdout",
     "output_type": "stream",
     "text": [
      "{('a', 'a'): 2, ('a', 'b'): 1}\n",
      "1\n"
     ]
    }
   ],
   "source": [
    "td = {('a', 'b'): 1, ('a', 'a'): 2}\n",
    "pprint.pprint(td)\n",
    "pprint.pprint(td[('a', 'b')])"
   ]
  }
 ],
 "metadata": {
  "kernelspec": {
   "display_name": "Python 3",
   "language": "python",
   "name": "python3"
  },
  "language_info": {
   "codemirror_mode": {
    "name": "ipython",
    "version": 3
   },
   "file_extension": ".py",
   "mimetype": "text/x-python",
   "name": "python",
   "nbconvert_exporter": "python",
   "pygments_lexer": "ipython3",
   "version": "3.6.5"
  }
 },
 "nbformat": 4,
 "nbformat_minor": 2
}

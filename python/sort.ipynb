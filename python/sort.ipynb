{
 "cells": [
  {
   "cell_type": "code",
   "execution_count": 1,
   "metadata": {
    "ExecuteTime": {
     "end_time": "2018-12-18T01:44:21.180970Z",
     "start_time": "2018-12-18T01:44:20.719261Z"
    }
   },
   "outputs": [],
   "source": [
    "import sys, math, random, logging, time\n",
    "import numpy as np\n",
    "import pandas as pd\n",
    "exinp = \"\"\"1324\n",
    "3415436\n",
    "1023422\n",
    "03517\n",
    "3555\"\"\".split()\n",
    "debug = True\n",
    "logging.basicConfig(level=logging.INFO)\n",
    "log = logging.getLogger('sorttest')"
   ]
  },
  {
   "cell_type": "code",
   "execution_count": 2,
   "metadata": {
    "ExecuteTime": {
     "end_time": "2018-12-18T01:44:21.197442Z",
     "start_time": "2018-12-18T01:44:21.183970Z"
    }
   },
   "outputs": [],
   "source": [
    "class MinLoc(object):\n",
    "    def __init__(self):\n",
    "        self.num = 20\n",
    "        self.ind = -1\n",
    "\n",
    "def count_sort(nums, reverse=False):\n",
    "    counts = [0]*10\n",
    "    minevn = MinLoc()\n",
    "    minodd = MinLoc()\n",
    "    for i, n in enumerate(nums):\n",
    "        counts[n] += 1\n",
    "        if n % 2 == 0 and n < minevn.num:\n",
    "            minevn.num = n\n",
    "            minevn.ind = i\n",
    "        elif n % 2 == 1 and n < minodd.num:\n",
    "            minodd.num = n\n",
    "            minodd.ind = i\n",
    "    minodd.num += 10\n",
    "    minind = min(minevn, minodd, key=lambda a: a.num)\n",
    "    counts[minind.num % 10] -= 1\n",
    "    nums2 = list(nums)\n",
    "    mn = nums2.pop(minind.ind)\n",
    "    sm = 0\n",
    "    if reverse:\n",
    "        for n in range(10):\n",
    "            i = 10 - (n+1)\n",
    "            sm += counts[i]\n",
    "            counts[i] = sm\n",
    "    else:\n",
    "        for n in range(10):\n",
    "            sm += counts[n]\n",
    "            counts[n] = sm\n",
    "    log.debug(\"counts: %s\", counts)\n",
    "    log.debug(\"nums2: %s\", nums2)\n",
    "    ret = [0]*len(nums2)\n",
    "    for n in nums2:\n",
    "        ret[counts[n] - 1] = n\n",
    "        counts[n] -= 1\n",
    "    if reverse:\n",
    "        ret.append(mn)\n",
    "    else:\n",
    "        ret.insert(0, mn)\n",
    "    log.debug('ret: %s', ret)\n",
    "    return ret"
   ]
  },
  {
   "cell_type": "code",
   "execution_count": 3,
   "metadata": {
    "ExecuteTime": {
     "end_time": "2018-12-18T01:44:21.234873Z",
     "start_time": "2018-12-18T01:44:21.201436Z"
    }
   },
   "outputs": [],
   "source": [
    "def count_sort_simpler(nums, dig=1):\n",
    "    counts = [0]*10\n",
    "    a = 10**(dig-1)\n",
    "    for n in nums:\n",
    "        d = (n // a)%10\n",
    "        counts[d] += 1\n",
    "    sm = 0\n",
    "    for n in range(9):\n",
    "        sm += counts[n]\n",
    "        counts[n] = sm\n",
    "    counts[9] = 0\n",
    "    ret = [0]*len(nums)\n",
    "    for n in nums:\n",
    "        d = (n // a)%10 - 1\n",
    "        ret[counts[d]] = n\n",
    "        counts[d] += 1\n",
    "    return ret\n",
    "\n",
    "def radix_sort(nums, digs):\n",
    "    for i in range(digs):\n",
    "        nums = count_sort_simpler(nums, i+1)\n",
    "    return nums"
   ]
  },
  {
   "cell_type": "code",
   "execution_count": 4,
   "metadata": {
    "ExecuteTime": {
     "end_time": "2018-12-18T01:44:21.269808Z",
     "start_time": "2018-12-18T01:44:21.238866Z"
    }
   },
   "outputs": [
    {
     "name": "stdout",
     "output_type": "stream",
     "text": [
      "4321\n",
      "6544331\n",
      "4322210\n",
      "75310\n",
      "5553\n"
     ]
    }
   ],
   "source": [
    "for ex in exinp:\n",
    "    exar = [int(n) for n in ex]\n",
    "    numarr = count_sort_simpler(exar)\n",
    "    num = sum(c*10**i for i,c in enumerate(numarr))\n",
    "    print(num)\n",
    "\n",
    "arr = [random.randrange(10000) for _ in range(100)]\n",
    "sarr = radix_sort(arr, 4)"
   ]
  },
  {
   "cell_type": "code",
   "execution_count": 5,
   "metadata": {
    "ExecuteTime": {
     "end_time": "2018-12-18T01:44:21.296758Z",
     "start_time": "2018-12-18T01:44:21.274799Z"
    }
   },
   "outputs": [],
   "source": [
    "def quicksort(arr):\n",
    "    _qs(arr, 0, len(arr) - 1)\n",
    "    return arr\n",
    "    \n",
    "def _qs(arr, start, pivot):\n",
    "    if (start >= pivot):\n",
    "        return\n",
    "    # i is the position to switch pivot to at the end,\n",
    "    # anything before it is below pivot\n",
    "    i = start\n",
    "    for j in range(start, pivot):\n",
    "        if arr[j] < arr[pivot]:\n",
    "            arr[j], arr[i] = arr[i], arr[j]\n",
    "            i += 1\n",
    "    arr[i], arr[pivot] = arr[pivot], arr[i]\n",
    "    \n",
    "    _qs(arr, start, i-1)\n",
    "    _qs(arr, i+1, pivot)"
   ]
  },
  {
   "cell_type": "code",
   "execution_count": 6,
   "metadata": {
    "ExecuteTime": {
     "end_time": "2018-12-18T01:44:21.347667Z",
     "start_time": "2018-12-18T01:44:21.299752Z"
    }
   },
   "outputs": [
    {
     "name": "stdout",
     "output_type": "stream",
     "text": [
      "Head: [-3.1710042  -2.74716006 -2.7450569  -2.70060765 -2.64743484 -2.58090857\n",
      " -2.5727584  -2.56140395 -2.50064879 -2.35605027] , tail: [2.34059362 2.35850281 2.4169752  2.46877573 2.76212822 2.84053984\n",
      " 2.90528896 3.00847958 3.03474865 3.21393233]\n",
      "[1, 2]\n",
      "[1, 2, 3]\n",
      "[0, 1]\n",
      "[3, 5, 5, 5, 5]\n",
      "[-2.52989668 -1.2293751  -0.85946066 -0.50522481 -0.14295855  0.12256594\n",
      "  0.24502217  0.98119222  1.0026667   1.08949702]\n"
     ]
    }
   ],
   "source": [
    "arr = np.random.randn(1000)\n",
    "arr[0:5]\n",
    "quicksort(arr)\n",
    "print(\"Head:\", arr[0:10], \", tail:\", arr[-10:])\n",
    "\n",
    "print(quicksort([2,1]))\n",
    "print(quicksort([3,2,1]))\n",
    "print(quicksort([0,1]))\n",
    "print(quicksort([5,5,3,5,5]))\n",
    "print(quicksort(np.random.randn(10)))"
   ]
  },
  {
   "cell_type": "code",
   "execution_count": 7,
   "metadata": {
    "ExecuteTime": {
     "end_time": "2018-12-18T01:44:21.372120Z",
     "start_time": "2018-12-18T01:44:21.355152Z"
    }
   },
   "outputs": [],
   "source": [
    "def mergesort(arr):\n",
    "    ret = _ms(arr, 0, len(arr) - 1)\n",
    "    return ret\n",
    "    \n",
    "def _ms(arr, start, end):\n",
    "    if end > start:\n",
    "        mid = (end + start)//2\n",
    "        arr1 = _ms(arr, start, mid)\n",
    "        arr2 = _ms(arr, mid + 1, end)\n",
    "        i,j = 0, 0\n",
    "        ret = []\n",
    "        while i <= (mid - start) and j <= (end - mid - 1):\n",
    "            if arr1[i] <= arr2[j]:\n",
    "                ret.append(arr1[i])\n",
    "                i += 1\n",
    "            else:\n",
    "                ret.append(arr2[j])\n",
    "                j += 1\n",
    "        if i <= (mid - start):\n",
    "            ret.extend(arr1[i:])\n",
    "        else:\n",
    "            ret.extend(arr2[j:])\n",
    "        return ret\n",
    "    else:\n",
    "        return [arr[start]]"
   ]
  },
  {
   "cell_type": "code",
   "execution_count": 8,
   "metadata": {
    "ExecuteTime": {
     "end_time": "2018-12-18T01:44:21.400066Z",
     "start_time": "2018-12-18T01:44:21.377616Z"
    }
   },
   "outputs": [],
   "source": [
    "def test_sort(arr):\n",
    "    lastel = arr[0]\n",
    "    for a in arr:\n",
    "        if lastel > a:\n",
    "            raise Exception(\"array is not actually sorted\")\n",
    "        lastel = a"
   ]
  },
  {
   "cell_type": "code",
   "execution_count": 9,
   "metadata": {
    "ExecuteTime": {
     "end_time": "2018-12-18T01:44:23.834047Z",
     "start_time": "2018-12-18T01:44:21.402561Z"
    }
   },
   "outputs": [
    {
     "name": "stdout",
     "output_type": "stream",
     "text": [
      "[-0.8662723503508571, -0.8038962839009093, -0.7911972014564661, -0.6688560372024959, -0.15387609305675792, 0.007821992829689728, 0.07876027886299873, 0.08725843034543967, 0.6851003600588579, 1.036660112600942]\n"
     ]
    }
   ],
   "source": [
    "print(mergesort(np.random.randn(10)))\n",
    "test_sort(mergesort(np.random.randn(100000)));\n",
    "\n",
    "test_sort(quicksort(np.random.randn(100000)))\n",
    "\n",
    "test_sort(sorted(np.random.randn(100000)))\n"
   ]
  },
  {
   "cell_type": "code",
   "execution_count": 10,
   "metadata": {
    "ExecuteTime": {
     "end_time": "2018-12-18T01:44:23.846528Z",
     "start_time": "2018-12-18T01:44:23.836047Z"
    }
   },
   "outputs": [
    {
     "name": "stdout",
     "output_type": "stream",
     "text": [
      "[0, 0, 1, 1, 1]\n",
      "[0, 0, 0, 0, 0, 0, 0, 0, 1, 2, 3, 4, 5]\n",
      "[0, 1, 2, 0, 1, 0, 1, 2, 3, 4, 5, 6, 7, 0, 1, 0, 1, 0, 0, 0, 1, 0, 1, 0, 1, 2, 3, 3, 4, 0]\n",
      "[0, 1, 2, 3, 4]\n",
      "[0, 0, 1, 2, 3, 4, 5, 6, 7, 8, 9, 10, 11]\n"
     ]
    }
   ],
   "source": [
    "def longest_proper_suffix(st):\n",
    "    lps = [0]*len(st)\n",
    "    l = 0\n",
    "    for i in range(1, len(st)):\n",
    "        if st[l] == st[i]:\n",
    "            l += 1\n",
    "        else:\n",
    "            while l > 0 and st[0:l] != st[i-l+1:i+1]:\n",
    "                l -= 1\n",
    "        lps[i] = l\n",
    "    \n",
    "    return lps\n",
    "\n",
    "print(longest_proper_suffix('abaaa'))\n",
    "print(longest_proper_suffix('myprefixmypre'))\n",
    "print(longest_proper_suffix('aaababaaabababababbbababaaaabb'))\n",
    "print(longest_proper_suffix('aaaaa'))\n",
    "print(longest_proper_suffix('ababababababa'))"
   ]
  },
  {
   "cell_type": "code",
   "execution_count": 11,
   "metadata": {
    "ExecuteTime": {
     "end_time": "2018-12-18T01:44:23.882462Z",
     "start_time": "2018-12-18T01:44:23.850021Z"
    }
   },
   "outputs": [
    {
     "name": "stdout",
     "output_type": "stream",
     "text": [
      "[5]\n"
     ]
    }
   ],
   "source": [
    "st = 'aaabaabaaa'\n",
    "pt = 'abaaa'\n",
    "log.setLevel(logging.INFO)\n",
    "\n",
    "def string_search_kmp(st, pt):\n",
    "    lps = longest_proper_suffix(pt)\n",
    "    log.debug(\"suffixes: %s\", lps)\n",
    "    sti, pti, matches = 0, 0, []\n",
    "    pl, sl = len(pt), len(st)\n",
    "    while sti - pti <= sl - pl:\n",
    "        log.debug(\"str index, pattern index: [%d, %d]\", sti, pti)\n",
    "        for i in range(pti, pl):\n",
    "            if st[sti+i] != pt[i]:\n",
    "                log.debug(\"index %d in string doesn't match %d in pattern, exiting\",\n",
    "                          sti+i, i)\n",
    "                log.debug(\"matching pref length: %d\", lps[i-1])\n",
    "                pti = 0 if i == 0 else lps[i-1]\n",
    "                sti += 1 if i == 0 else (i-pti)\n",
    "                break\n",
    "            if i + 1 == pl:\n",
    "                log.debug(\"adding a match starting at place: %d\", sti)\n",
    "                matches.append(sti)\n",
    "                pti = lps[i]\n",
    "                sti += (i+1-pti)\n",
    "    return matches\n",
    "\n",
    "print(string_search_kmp(st, pt))"
   ]
  },
  {
   "cell_type": "code",
   "execution_count": 12,
   "metadata": {
    "ExecuteTime": {
     "end_time": "2018-12-18T01:44:23.898930Z",
     "start_time": "2018-12-18T01:44:23.884956Z"
    }
   },
   "outputs": [
    {
     "name": "stdout",
     "output_type": "stream",
     "text": [
      "[0, 9, 12]\n",
      "[13]\n",
      "[]\n",
      "[0, 1]\n"
     ]
    }
   ],
   "source": [
    "log.setLevel(logging.INFO)\n",
    "print(string_search_kmp(\"AABAACAADAABAABA\", \"AABA\"))\n",
    "print(string_search_kmp(\"AAAAAAAAAAAAAAAAAB\", \"AAAAB\"))\n",
    "print(string_search_kmp(\"ABABABCABABABCABABABC\", \"ABABAC\"))\n",
    "# log.setLevel(logging.DEBUG)\n",
    "print(string_search_kmp(\"AAAAABAAABA\" , \"AAAA\"))"
   ]
  },
  {
   "cell_type": "code",
   "execution_count": 13,
   "metadata": {
    "ExecuteTime": {
     "end_time": "2018-12-18T01:44:23.932368Z",
     "start_time": "2018-12-18T01:44:23.901924Z"
    }
   },
   "outputs": [],
   "source": [
    "def fib_search(arr, x):\n",
    "    al = len(arr)\n",
    "    # avoid worst case\n",
    "    if arr[-1] == x:\n",
    "        return al - 1\n",
    "    elif arr[-1] < x or arr[0] > x:\n",
    "        return None\n",
    "    elif arr[0] == x:\n",
    "        return 0\n",
    "    \n",
    "    fibs, lf, fib_i = [1,1], 1, 1\n",
    "    while lf < al:\n",
    "        lf = fibs[fib_i] + fibs[fib_i-1]\n",
    "        fibs.append(lf)\n",
    "        fib_i += 1\n",
    "    log.debug(\"Fibs: %s\", fibs)\n",
    "    \n",
    "    return _fibsearch(arr, al, 0, fib_i-2, fibs, x)\n",
    "    \n",
    "def _fibsearch(arr, len_arr, start, fib_i, fibs, x):\n",
    "    if fib_i < 0:\n",
    "        return start if arr[start] == x else None\n",
    "    arr_i_mid =  min(len_arr - 1, fibs[fib_i] + start)\n",
    "    arr_v_mid = arr[arr_i_mid]\n",
    "    if x == arr_v_mid:\n",
    "        return arr_i_mid\n",
    "    elif x > arr_v_mid:\n",
    "        log.debug(\"Index value %d is less than x, reducing fib index to %d, setting start ind to %d\",\n",
    "                  arr_i_mid, fib_i - 1, arr_i_mid)\n",
    "        return _fibsearch(arr, len_arr, arr_i_mid, fib_i - 1, fibs, x)\n",
    "    else:\n",
    "        log.debug(\"Index value %d is greater than x, reducing fib index to %d, setting start ind to %d\",\n",
    "                  arr_i_mid, fib_i - 2, start)\n",
    "        return _fibsearch(arr, len_arr, start, fib_i - 2, fibs, x)\n",
    "    "
   ]
  },
  {
   "cell_type": "code",
   "execution_count": 14,
   "metadata": {
    "ExecuteTime": {
     "end_time": "2018-12-18T01:44:23.960819Z",
     "start_time": "2018-12-18T01:44:23.936863Z"
    }
   },
   "outputs": [
    {
     "name": "stderr",
     "output_type": "stream",
     "text": [
      "DEBUG:sorttest:Fibs: [1, 1, 2, 3, 5, 8, 13, 21, 34, 55, 89, 144]\n",
      "DEBUG:sorttest:Index value 55 is greater than x, reducing fib index to 7, setting start ind to 0\n",
      "DEBUG:sorttest:Index value 21 is greater than x, reducing fib index to 5, setting start ind to 0\n",
      "DEBUG:sorttest:Index value 8 is less than x, reducing fib index to 4, setting start ind to 8\n",
      "DEBUG:sorttest:Index value 13 is less than x, reducing fib index to 3, setting start ind to 13\n",
      "DEBUG:sorttest:Index value 16 is less than x, reducing fib index to 2, setting start ind to 16\n"
     ]
    },
    {
     "name": "stdout",
     "output_type": "stream",
     "text": [
      "[1, 2, 2, 4, 4, 5, 8, 8, 9, 12, 13, 15, 16, 16, 17, 19, 19, 19, 20, 21, 21, 21, 21, 22, 24, 25, 25, 26, 26, 27, 29, 29, 29, 31, 33, 35, 38, 38, 38, 40, 40, 41, 44, 46, 46, 46, 48, 48, 49, 51, 51, 51, 52, 53, 53, 53, 55, 56, 57, 57, 57, 59, 60, 63, 63, 65, 66, 67, 68, 70, 72, 72, 74, 76, 76, 77, 77, 78, 80, 81, 81, 82, 82, 83, 84, 84, 86, 86, 88, 90, 93, 94, 94, 95, 97, 97, 97, 98, 98, 99, 99]\n",
      "18\n",
      "0\n"
     ]
    }
   ],
   "source": [
    "log.setLevel(logging.DEBUG)\n",
    "ra = sorted(np.random.randint(100, size=101))\n",
    "print(ra)\n",
    "search_val = 20\n",
    "ri = fib_search(ra, search_val)\n",
    "print(ri)\n",
    "try:\n",
    "#     assert ri == ra.index(10), f\"found index does not match value from .index call: {ri}\"\n",
    "    assert ra[ri] == search_val\n",
    "except TypeError:\n",
    "    assert search_val not in ra\n",
    "print(fib_search([1,3,4,5,7,18,88], 1))"
   ]
  },
  {
   "cell_type": "code",
   "execution_count": 15,
   "metadata": {
    "ExecuteTime": {
     "end_time": "2018-12-18T01:44:23.993255Z",
     "start_time": "2018-12-18T01:44:23.966804Z"
    }
   },
   "outputs": [],
   "source": [
    "def find_instances(arr, num):\n",
    "    la = len(arr)\n",
    "    l, r = -1, la\n",
    "    return [i for i in range(\n",
    "                _findlower(arr, num, l, r) + 1,\n",
    "                _findupper(arr, num, l, r))]\n",
    "    \n",
    "def _findlower(arr, num, l, r):\n",
    "    log.debug(\"find limit: l:%d, r:%d\", l, r)\n",
    "    if l == r:\n",
    "        return l\n",
    "    m = math.ceil((l + r)/2)\n",
    "    if arr[m] < num:\n",
    "        return _findlower(arr, num, m, r)\n",
    "    else:\n",
    "        return _findlower(arr, num, l, m-1)\n",
    "    \n",
    "def _findupper(arr, num, l, r):\n",
    "    log.debug(\"find limit: l:%d, r:%d\", l, r)\n",
    "    if l == r:\n",
    "        return l\n",
    "    m = math.floor((l + r)/2)\n",
    "    if arr[m] > num:\n",
    "        return _findupper(arr, num, l, m)\n",
    "    else:\n",
    "        return _findupper(arr, num, m+1, r)"
   ]
  },
  {
   "cell_type": "code",
   "execution_count": 16,
   "metadata": {
    "ExecuteTime": {
     "end_time": "2018-12-18T01:44:24.034677Z",
     "start_time": "2018-12-18T01:44:23.996250Z"
    }
   },
   "outputs": [
    {
     "name": "stderr",
     "output_type": "stream",
     "text": [
      "DEBUG:sorttest:find limit: l:-1, r:7\n",
      "DEBUG:sorttest:find limit: l:-1, r:2\n",
      "DEBUG:sorttest:find limit: l:1, r:2\n",
      "DEBUG:sorttest:find limit: l:1, r:1\n",
      "DEBUG:sorttest:find limit: l:-1, r:7\n",
      "DEBUG:sorttest:find limit: l:4, r:7\n",
      "DEBUG:sorttest:find limit: l:6, r:7\n",
      "DEBUG:sorttest:find limit: l:6, r:6\n",
      "DEBUG:sorttest:find limit: l:-1, r:7\n",
      "DEBUG:sorttest:find limit: l:-1, r:2\n"
     ]
    },
    {
     "name": "stdout",
     "output_type": "stream",
     "text": [
      "[2, 3, 4, 5]\n"
     ]
    },
    {
     "name": "stderr",
     "output_type": "stream",
     "text": [
      "DEBUG:sorttest:find limit: l:1, r:2\n",
      "DEBUG:sorttest:find limit: l:1, r:1\n",
      "DEBUG:sorttest:find limit: l:-1, r:7\n",
      "DEBUG:sorttest:find limit: l:-1, r:3\n",
      "DEBUG:sorttest:find limit: l:2, r:3\n",
      "DEBUG:sorttest:find limit: l:2, r:2\n"
     ]
    },
    {
     "name": "stdout",
     "output_type": "stream",
     "text": [
      "[]\n"
     ]
    }
   ],
   "source": [
    "log.setLevel(logging.DEBUG)\n",
    "print(find_instances([3,3,5,5,5,5,7], 5))\n",
    "print(find_instances([3,3,5,5,5,5,7], 4))"
   ]
  },
  {
   "cell_type": "code",
   "execution_count": 17,
   "metadata": {
    "ExecuteTime": {
     "end_time": "2018-12-18T01:44:24.077104Z",
     "start_time": "2018-12-18T01:44:24.049151Z"
    }
   },
   "outputs": [],
   "source": [
    "level = 0\n",
    "def unsorted_search(arr, num):\n",
    "    global level\n",
    "    level = 0\n",
    "    return _us(arr, num, 0, len(arr)-1, 0)\n",
    "\n",
    "def _us(arr, num, l, r, lev):\n",
    "    global level\n",
    "    level = max(lev, level)\n",
    "    if l > r:\n",
    "        return -1\n",
    "    \n",
    "    m = (l+r)//2\n",
    "    if arr[m] == num:\n",
    "        return m\n",
    "    else:\n",
    "        step1 = _us(arr, num, l, m-1, lev+1)\n",
    "        if step1 == -1:\n",
    "            step2 = _us(arr, num, m+1, r, lev+1)\n",
    "            return max(step1, step2)\n",
    "        else:\n",
    "            return step1\n",
    "    \n",
    "def recSearch( arr, x):\n",
    "    global level\n",
    "    level = 0\n",
    "    return _recSearch(arr, 0, len(arr)-1, x, 0)\n",
    "    \n",
    "def _recSearch( arr, l, r, x, lev):\n",
    "    global level\n",
    "    level = max(level, lev)\n",
    "    if r < l: \n",
    "        return -1\n",
    "    if arr[l] == x: \n",
    "        return l \n",
    "    if arr[r] == x: \n",
    "        return r \n",
    "    return _recSearch(arr, l+1, r-1, x, lev+1) \n",
    "  "
   ]
  },
  {
   "cell_type": "code",
   "execution_count": 20,
   "metadata": {
    "ExecuteTime": {
     "end_time": "2018-12-18T01:45:36.301026Z",
     "start_time": "2018-12-18T01:45:36.239621Z"
    }
   },
   "outputs": [
    {
     "name": "stdout",
     "output_type": "stream",
     "text": [
      "4645\n",
      "max level: 20\n",
      "Execution failed with recursion error\n",
      "max level: 2961\n"
     ]
    },
    {
     "data": {
      "text/html": [
       "<div>\n",
       "<style scoped>\n",
       "    .dataframe tbody tr th:only-of-type {\n",
       "        vertical-align: middle;\n",
       "    }\n",
       "\n",
       "    .dataframe tbody tr th {\n",
       "        vertical-align: top;\n",
       "    }\n",
       "\n",
       "    .dataframe thead th {\n",
       "        text-align: right;\n",
       "    }\n",
       "</style>\n",
       "<table border=\"1\" class=\"dataframe\">\n",
       "  <thead>\n",
       "    <tr style=\"text-align: right;\">\n",
       "      <th></th>\n",
       "      <th>start</th>\n",
       "      <th>end</th>\n",
       "      <th>diff</th>\n",
       "    </tr>\n",
       "  </thead>\n",
       "  <tbody>\n",
       "    <tr>\n",
       "      <th>recursive</th>\n",
       "      <td>0.00000</td>\n",
       "      <td>0.010480</td>\n",
       "      <td>0.010480</td>\n",
       "    </tr>\n",
       "    <tr>\n",
       "      <th>linear</th>\n",
       "      <td>0.01048</td>\n",
       "      <td>0.018966</td>\n",
       "      <td>0.008486</td>\n",
       "    </tr>\n",
       "  </tbody>\n",
       "</table>\n",
       "</div>"
      ],
      "text/plain": [
       "             start       end      diff\n",
       "recursive  0.00000  0.010480  0.010480\n",
       "linear     0.01048  0.018966  0.008486"
      ]
     },
     "execution_count": 20,
     "metadata": {},
     "output_type": "execute_result"
    }
   ],
   "source": [
    "la = np.random.randint(10000, size=990000)\n",
    "# log.debug(\"array: %s\", la)\n",
    "times = [time.time()]\n",
    "print(unsorted_search(la, 50))\n",
    "print(\"max level:\", level)\n",
    "times.append(time.time())\n",
    "try:\n",
    "    print(recSearch(la, 50))\n",
    "except RecursionError:\n",
    "    print('Execution failed with recursion error')\n",
    "print(\"max level:\", level)\n",
    "times.append(time.time())\n",
    "df = pd.DataFrame({'start': times[0:2], 'end': times[1:3]}, index=['recursive', 'linear'])\n",
    "df -= times[0]\n",
    "df['diff'] = df['end'] - df['start']\n",
    "df"
   ]
  },
  {
   "cell_type": "code",
   "execution_count": 29,
   "metadata": {
    "ExecuteTime": {
     "end_time": "2018-12-18T02:01:22.435353Z",
     "start_time": "2018-12-18T02:01:22.428367Z"
    }
   },
   "outputs": [],
   "source": [
    "def contains(st, pat):\n",
    "    pl = len(pat)\n",
    "    end = len(st) - pl\n",
    "    if end < 0:\n",
    "        return -1\n",
    "    return _contains(st, pat, 0, end, pl)\n",
    "    \n",
    "def _contains(st, pat, l, r, pl):\n",
    "    if l > r:\n",
    "        return -1\n",
    "    m = (l+r)//2\n",
    "    if _test(st, pat, m, 0, pl):\n",
    "        return m\n",
    "    else:\n",
    "        return (_contains(st, pat, l, m-1, pl) or\n",
    "                _contains(st, pat, m+1, r, pl))\n",
    "    \n",
    "def _test(st, pat, sti, pti, lng):\n",
    "    log.debug(\"testing indices: string: %d, pattern: %d\", sti, pti)\n",
    "    if pti == lng:\n",
    "        return True\n",
    "    elif st[sti] != pat[pti]:\n",
    "        return False\n",
    "    else:\n",
    "        return _test(st, pat, sti+1, pti+1, lng)`"
   ]
  },
  {
   "cell_type": "code",
   "execution_count": 31,
   "metadata": {
    "ExecuteTime": {
     "end_time": "2018-12-18T02:07:38.329383Z",
     "start_time": "2018-12-18T02:07:38.303932Z"
    }
   },
   "outputs": [
    {
     "name": "stderr",
     "output_type": "stream",
     "text": [
      "DEBUG:sorttest:testing indices: string: 7, pattern: 0\n",
      "DEBUG:sorttest:testing indices: string: 3, pattern: 0\n",
      "DEBUG:sorttest:testing indices: string: 1, pattern: 0\n",
      "DEBUG:sorttest:testing indices: string: 0, pattern: 0\n",
      "DEBUG:sorttest:testing indices: string: 1, pattern: 1\n",
      "DEBUG:sorttest:testing indices: string: 2, pattern: 0\n",
      "DEBUG:sorttest:testing indices: string: 5, pattern: 0\n",
      "DEBUG:sorttest:testing indices: string: 4, pattern: 0\n",
      "DEBUG:sorttest:testing indices: string: 6, pattern: 0\n",
      "DEBUG:sorttest:testing indices: string: 11, pattern: 0\n",
      "DEBUG:sorttest:testing indices: string: 9, pattern: 0\n",
      "DEBUG:sorttest:testing indices: string: 8, pattern: 0\n",
      "DEBUG:sorttest:testing indices: string: 10, pattern: 0\n",
      "DEBUG:sorttest:testing indices: string: 11, pattern: 1\n",
      "DEBUG:sorttest:testing indices: string: 12, pattern: 2\n",
      "DEBUG:sorttest:testing indices: string: 13, pattern: 3\n",
      "DEBUG:sorttest:testing indices: string: 14, pattern: 4\n",
      "DEBUG:sorttest:testing indices: string: 4, pattern: 0\n",
      "DEBUG:sorttest:testing indices: string: 1, pattern: 0\n",
      "DEBUG:sorttest:testing indices: string: 0, pattern: 0\n",
      "DEBUG:sorttest:testing indices: string: 2, pattern: 0\n",
      "DEBUG:sorttest:testing indices: string: 3, pattern: 0\n",
      "DEBUG:sorttest:testing indices: string: 7, pattern: 0\n",
      "DEBUG:sorttest:testing indices: string: 5, pattern: 0\n",
      "DEBUG:sorttest:testing indices: string: 6, pattern: 0\n",
      "DEBUG:sorttest:testing indices: string: 8, pattern: 0\n",
      "DEBUG:sorttest:testing indices: string: 9, pattern: 0\n"
     ]
    },
    {
     "name": "stdout",
     "output_type": "stream",
     "text": [
      "True\n",
      "False\n"
     ]
    }
   ],
   "source": [
    "s = \"THIS IS A TEST TEXT\"\n",
    "p = \"TEST\"\n",
    "print(contains(s, p))\n",
    "\n",
    "s = \"geeksforgeeks\"\n",
    "p = \"quiz\"\n",
    "print(contains(s, p))"
   ]
  },
  {
   "cell_type": "code",
   "execution_count": 33,
   "metadata": {
    "ExecuteTime": {
     "end_time": "2018-12-18T02:08:02.578721Z",
     "start_time": "2018-12-18T02:08:02.572732Z"
    }
   },
   "outputs": [
    {
     "data": {
      "text/plain": [
       "array([15,  8, 31, 34,  5])"
      ]
     },
     "execution_count": 33,
     "metadata": {},
     "output_type": "execute_result"
    }
   ],
   "source": [
    "np.random.randint(50, size=5)"
   ]
  }
 ],
 "metadata": {
  "kernelspec": {
   "display_name": "Python 3",
   "language": "python",
   "name": "python3"
  },
  "language_info": {
   "codemirror_mode": {
    "name": "ipython",
    "version": 3
   },
   "file_extension": ".py",
   "mimetype": "text/x-python",
   "name": "python",
   "nbconvert_exporter": "python",
   "pygments_lexer": "ipython3",
   "version": "3.6.5"
  }
 },
 "nbformat": 4,
 "nbformat_minor": 2
}

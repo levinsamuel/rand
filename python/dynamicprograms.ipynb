{
 "cells": [
  {
   "cell_type": "code",
   "execution_count": 9,
   "metadata": {
    "ExecuteTime": {
     "end_time": "2018-12-18T04:06:58.586302Z",
     "start_time": "2018-12-18T04:06:58.581810Z"
    }
   },
   "outputs": [],
   "source": [
    "import pandas as pd\n",
    "import numpy as np\n",
    "import math, sys, logging\n",
    "logging.basicConfig()\n",
    "log = logging.getLogger('dynamic')\n",
    "log.setLevel(logging.INFO)"
   ]
  },
  {
   "cell_type": "markdown",
   "metadata": {},
   "source": [
    "## Shortest common supersequence\n",
    "\n",
    "Ok, so I was confused here, I thought a supersequence was one that directly contained its subsequences intact, so like how \"ABCDE\" contains \"ABC\" and \"CDE\". But the definition of subsequence also includes \"ACE\" as a subsequence, because it contains the same elements, the same number of times, in the same order. This is the difference between subsequences and substrings."
   ]
  },
  {
   "cell_type": "code",
   "execution_count": 146,
   "metadata": {
    "ExecuteTime": {
     "end_time": "2018-12-18T23:28:33.869153Z",
     "start_time": "2018-12-18T23:28:33.852684Z"
    }
   },
   "outputs": [
    {
     "name": "stdout",
     "output_type": "stream",
     "text": [
      "('c', 'd')\n",
      "   0  1\n",
      "0  a  c\n",
      "1  b  d\n",
      "bc\n"
     ]
    }
   ],
   "source": [
    "a = {0: ('a', 'b'), 1: ('c', 'd')}\n",
    "print(a[1])\n",
    "df = pd.DataFrame(a)\n",
    "print(df)\n",
    "ssl = pd.DataFrame(-1, index=range(6), columns=range(5), dtype=int)\n",
    "ssl\n",
    "ssl.rank(1)\n",
    "ssl.iat[3,4] = 1\n",
    "ssl[:] = -1\n",
    "ssl\n",
    "\n",
    "sss = 'abcd'\n",
    "print(sss[1:3])"
   ]
  },
  {
   "cell_type": "code",
   "execution_count": 125,
   "metadata": {
    "ExecuteTime": {
     "end_time": "2018-12-18T19:41:35.142309Z",
     "start_time": "2018-12-18T19:41:35.133822Z"
    }
   },
   "outputs": [],
   "source": [
    "def shortest_superseq(s1, s2):\n",
    "    l1, l2 = len(s1), len(s2)\n",
    "    seqs = pd.DataFrame(-1,\n",
    "        index=range(l1+1), columns=range(l2+1),\n",
    "        dtype=int)\n",
    "    _ss(s1, s2, l1, l2, seqs)\n",
    "    return seqs\n",
    "    \n",
    "def _ss(s1, s2, i, j, seqs):\n",
    "    prev = seqs.iat[i,j]\n",
    "    if prev != -1:\n",
    "        return prev\n",
    "    if i == 0:\n",
    "        ret = j\n",
    "    elif j == 0:\n",
    "        ret = i\n",
    "    elif s1[i-1] == s2[j-1]:\n",
    "        ret = _ss(s1, s2, i-1, j-1, seqs) + 1\n",
    "    else:\n",
    "        r1 = _ss(s1, s2, i-1, j, seqs) + 1\n",
    "        r2 = _ss(s1, s2, i, j-1, seqs) + 1\n",
    "        ret = min(r1, r2)\n",
    "    seqs.iat[i,j] = ret\n",
    "    return ret\n",
    "        "
   ]
  },
  {
   "cell_type": "code",
   "execution_count": 147,
   "metadata": {
    "ExecuteTime": {
     "end_time": "2018-12-19T00:09:06.067723Z",
     "start_time": "2018-12-19T00:09:06.034786Z"
    }
   },
   "outputs": [],
   "source": [
    "def find_supersequences(seqs, s1, s2):\n",
    "    l1, l2 = len(s1), len(s2)\n",
    "    sl = []\n",
    "    msl = seqs.iat[l1, l2]\n",
    "    _fss(seqs, s1, s2, l1, l2, sl, '')\n",
    "    return sl\n",
    "    \n",
    "def _fss(seqs, s1, s2, i, j, sl, s):\n",
    "    p = seqs.iat[i,j]\n",
    "    if i == 0:\n",
    "        sl.append(s2[0:j]+s)\n",
    "    elif j == 0:\n",
    "        sl.append(s1[0:i]+s)\n",
    "    else:\n",
    "        if s1[i-1] == s2[j-1]:\n",
    "            _fss(seqs, s1, s2, i-1, j-1, sl, s1[i-1]+s)\n",
    "        else:\n",
    "            if seqs.iat[i,j] - 1 == seqs.iat[i-1,j]:\n",
    "                _fss(seqs, s1, s2, i-1, j, sl, s1[i-1]+s)\n",
    "            if seqs.iat[i,j] - 1 == seqs.iat[i,j-1]:\n",
    "                _fss(seqs, s1, s2, i, j-1, sl, s2[j-1]+s)\n",
    "    "
   ]
  },
  {
   "cell_type": "code",
   "execution_count": 148,
   "metadata": {
    "ExecuteTime": {
     "end_time": "2018-12-19T00:09:06.795061Z",
     "start_time": "2018-12-19T00:09:06.736671Z"
    }
   },
   "outputs": [
    {
     "name": "stdout",
     "output_type": "stream",
     "text": [
      "       0   1   2   3   4   5   6   7  str\n",
      "0     -1   1  -1   3  -1  -1  -1  -1  NaN\n",
      "1      1   2   2   3   4  -1  -1  -1    B\n",
      "2      2   3   3   4   5   5  -1  -1    D\n",
      "3      3   4   4   4   5   6  -1  -1    C\n",
      "4     -1   4   5   5   6   7   7  -1    A\n",
      "5     -1  -1  -1  -1   6   7  -1   8    B\n",
      "6     -1  -1  -1  -1  -1  -1   8   9    A\n",
      "str  NaN   A   B   C   B   D   A   B  NaN\n"
     ]
    },
    {
     "data": {
      "text/plain": [
       "['ABDCABDAB', 'ABDCBDABA', 'ABCBDCABA']"
      ]
     },
     "execution_count": 148,
     "metadata": {},
     "output_type": "execute_result"
    }
   ],
   "source": [
    "s1 = 'ABCBDAB'\n",
    "s2 = 'BDCABA'\n",
    "seqs = shortest_superseq(s1, s2)\n",
    "seqslabeled = seqs.copy()\n",
    "seqslabeled.loc[1:,('str')] = list(s1)\n",
    "seqslabeled = seqslabeled.T\n",
    "seqslabeled.loc[1:-1,('str')] = list(s2)\n",
    "print(seqslabeled)\n",
    "seqlist = find_supersequences(seqs, s1, s2)\n",
    "seqlist\n"
   ]
  }
 ],
 "metadata": {
  "kernelspec": {
   "display_name": "Python 3",
   "language": "python",
   "name": "python3"
  },
  "language_info": {
   "codemirror_mode": {
    "name": "ipython",
    "version": 3
   },
   "file_extension": ".py",
   "mimetype": "text/x-python",
   "name": "python",
   "nbconvert_exporter": "python",
   "pygments_lexer": "ipython3",
   "version": "3.6.5"
  }
 },
 "nbformat": 4,
 "nbformat_minor": 2
}

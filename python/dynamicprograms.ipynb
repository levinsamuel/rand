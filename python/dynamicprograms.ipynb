{
 "cells": [
  {
   "cell_type": "code",
   "execution_count": 1,
   "metadata": {
    "ExecuteTime": {
     "end_time": "2018-12-20T20:16:08.086830Z",
     "start_time": "2018-12-20T20:16:05.044130Z"
    }
   },
   "outputs": [],
   "source": [
    "import pandas as pd\n",
    "import numpy as np\n",
    "import math, sys, logging\n",
    "logging.basicConfig()\n",
    "log = logging.getLogger('dynamic')\n",
    "log.setLevel(logging.INFO)"
   ]
  },
  {
   "cell_type": "markdown",
   "metadata": {},
   "source": [
    "## Shortest common supersequence\n",
    "\n",
    "Ok, so I was confused here, I thought a supersequence was one that directly contained its subsequences intact, so like how \"ABCDE\" contains \"ABC\" and \"CDE\". But the definition of subsequence also includes \"ACE\" as a subsequence, because it contains the same elements, the same number of times, in the same order. This is the difference between subsequences and substrings."
   ]
  },
  {
   "cell_type": "code",
   "execution_count": 2,
   "metadata": {
    "ExecuteTime": {
     "end_time": "2018-12-20T20:16:08.117771Z",
     "start_time": "2018-12-20T20:16:08.090790Z"
    }
   },
   "outputs": [
    {
     "name": "stdout",
     "output_type": "stream",
     "text": [
      "('c', 'd')\n",
      "   0  1\n",
      "0  a  c\n",
      "1  b  d\n",
      "bc\n"
     ]
    }
   ],
   "source": [
    "a = {0: ('a', 'b'), 1: ('c', 'd')}\n",
    "print(a[1])\n",
    "df = pd.DataFrame(a)\n",
    "print(df)\n",
    "ssl = pd.DataFrame(-1, index=range(6), columns=range(5), dtype=int)\n",
    "ssl\n",
    "ssl.rank(1)\n",
    "ssl.iat[3,4] = 1\n",
    "ssl[:] = -1\n",
    "ssl\n",
    "\n",
    "sss = 'abcd'\n",
    "print(sss[1:3])"
   ]
  },
  {
   "cell_type": "code",
   "execution_count": 3,
   "metadata": {
    "ExecuteTime": {
     "end_time": "2018-12-20T20:16:08.135760Z",
     "start_time": "2018-12-20T20:16:08.120770Z"
    }
   },
   "outputs": [],
   "source": [
    "def shortest_superseq(s1, s2):\n",
    "    l1, l2 = len(s1), len(s2)\n",
    "    seqs = pd.DataFrame(-1,\n",
    "        index=range(l1+1), columns=range(l2+1),\n",
    "        dtype=int)\n",
    "    _ss(s1, s2, l1, l2, seqs)\n",
    "    return seqs\n",
    "    \n",
    "def _ss(s1, s2, i, j, seqs):\n",
    "    prev = seqs.iat[i,j]\n",
    "    if prev != -1:\n",
    "        return prev\n",
    "    if i == 0:\n",
    "        ret = j\n",
    "    elif j == 0:\n",
    "        ret = i\n",
    "    elif s1[i-1] == s2[j-1]:\n",
    "        ret = _ss(s1, s2, i-1, j-1, seqs) + 1\n",
    "    else:\n",
    "        r1 = _ss(s1, s2, i-1, j, seqs) + 1\n",
    "        r2 = _ss(s1, s2, i, j-1, seqs) + 1\n",
    "        ret = min(r1, r2)\n",
    "    seqs.iat[i,j] = ret\n",
    "    return ret\n",
    "        "
   ]
  },
  {
   "cell_type": "code",
   "execution_count": 4,
   "metadata": {
    "ExecuteTime": {
     "end_time": "2018-12-20T20:16:08.155752Z",
     "start_time": "2018-12-20T20:16:08.138759Z"
    }
   },
   "outputs": [],
   "source": [
    "def find_supersequences(seqs, s1, s2):\n",
    "    l1, l2 = len(s1), len(s2)\n",
    "    sl = []\n",
    "    msl = seqs.iat[l1, l2]\n",
    "    _fss(seqs, s1, s2, l1, l2, sl, '')\n",
    "    return sl\n",
    "    \n",
    "def _fss(seqs, s1, s2, i, j, sl, s):\n",
    "    p = seqs.iat[i,j]\n",
    "    if i == 0:\n",
    "        sl.append(s2[0:j]+s)\n",
    "    elif j == 0:\n",
    "        sl.append(s1[0:i]+s)\n",
    "    else:\n",
    "        if s1[i-1] == s2[j-1]:\n",
    "            _fss(seqs, s1, s2, i-1, j-1, sl, s1[i-1]+s)\n",
    "        else:\n",
    "            if seqs.iat[i,j] - 1 == seqs.iat[i-1,j]:\n",
    "                _fss(seqs, s1, s2, i-1, j, sl, s1[i-1]+s)\n",
    "            if seqs.iat[i,j] - 1 == seqs.iat[i,j-1]:\n",
    "                _fss(seqs, s1, s2, i, j-1, sl, s2[j-1]+s)\n",
    "    "
   ]
  },
  {
   "cell_type": "code",
   "execution_count": 5,
   "metadata": {
    "ExecuteTime": {
     "end_time": "2018-12-20T20:16:08.209719Z",
     "start_time": "2018-12-20T20:16:08.159747Z"
    }
   },
   "outputs": [
    {
     "name": "stdout",
     "output_type": "stream",
     "text": [
      "       0   1   2   3   4   5   6   7  str\n",
      "0     -1   1  -1   3  -1  -1  -1  -1  NaN\n",
      "1      1   2   2   3   4  -1  -1  -1    B\n",
      "2      2   3   3   4   5   5  -1  -1    D\n",
      "3      3   4   4   4   5   6  -1  -1    C\n",
      "4     -1   4   5   5   6   7   7  -1    A\n",
      "5     -1  -1  -1  -1   6   7  -1   8    B\n",
      "6     -1  -1  -1  -1  -1  -1   8   9    A\n",
      "str  NaN   A   B   C   B   D   A   B  NaN\n"
     ]
    },
    {
     "data": {
      "text/plain": [
       "['ABDCABDAB', 'ABDCBDABA', 'ABCBDCABA']"
      ]
     },
     "execution_count": 5,
     "metadata": {},
     "output_type": "execute_result"
    }
   ],
   "source": [
    "s1 = 'ABCBDAB'\n",
    "s2 = 'BDCABA'\n",
    "seqs = shortest_superseq(s1, s2)\n",
    "seqslabeled = seqs.copy()\n",
    "seqslabeled.loc[1:,('str')] = list(s1)\n",
    "seqslabeled = seqslabeled.T\n",
    "seqslabeled.loc[1:-1,('str')] = list(s2)\n",
    "print(seqslabeled)\n",
    "seqlist = find_supersequences(seqs, s1, s2)\n",
    "seqlist\n"
   ]
  },
  {
   "cell_type": "markdown",
   "metadata": {},
   "source": [
    "## Word break problem\n",
    "\n",
    "Given a dictionary and a condensed string of non-whitespace characters, split the string up into combinations of words in the dictionary. Both determine if it is possible, and find all the satisfying strings."
   ]
  },
  {
   "cell_type": "code",
   "execution_count": 6,
   "metadata": {
    "ExecuteTime": {
     "end_time": "2018-12-20T20:16:08.231706Z",
     "start_time": "2018-12-20T20:16:08.214716Z"
    }
   },
   "outputs": [],
   "source": [
    "def word_break(dct, st):\n",
    "    last = len(st)\n",
    "    words = []\n",
    "    if _wb(dct, st, 0, 1, last, words):\n",
    "        return words\n",
    "    else:\n",
    "        return None\n",
    "\n",
    "def _wb(dct, st, start, end, last, words):\n",
    "    word = st[start:end]\n",
    "    if (word in dct):\n",
    "        log.debug('adding word: %s', word)\n",
    "        words.append(word)\n",
    "        if end == last:\n",
    "            return True\n",
    "        else:\n",
    "            return _wb(dct, st, end, end+1, last, words)\n",
    "    else:\n",
    "        if end == last:\n",
    "            return False\n",
    "        else:\n",
    "            return _wb(dct, st, start, end+1, last, words)"
   ]
  },
  {
   "cell_type": "markdown",
   "metadata": {},
   "source": [
    "### Dynamic approach\n",
    "\n",
    "Given that this is from a dynamic programming list, it makes sense that this would exist. Once we identify any word or group of words from one portion of the string, and we know those are all the words in that substring, then we can do the same for the remaining string separately, and each combination of breakups of each of those two strings becomes the total combinations for all breaks that have a separation at that point. Each individual calculation is also a microcosm of the original problem, which is to say, the algorithm that solves the problem generally would be applied as-is to each substring.\n",
    "\n",
    "Ex: \"pickaxeatone\" -> if separated into \"pickaxe\" and \"atone\", we can look at each separate string in isolation. If you look at \"atone\" and find \"atone\", \"a tone\", and \"at one\", then you know that the total combination involving that substring will be those combinations crossed with the combinations made from the remaining substring.\n",
    "\n",
    "Therefore, what I want to do is constract a 2D array, where each place in the outer array represents the starting substring index, and each item in the inner array at that point is the list of words beginning at that point (\"a\" , \"at\", and \"atone\" in the prior example, if we start at \"a\"). Then to find the other combinations, you move forward in the outer array by the length of that string. Do that recursives and get all your combinations."
   ]
  },
  {
   "cell_type": "code",
   "execution_count": 22,
   "metadata": {
    "ExecuteTime": {
     "end_time": "2018-12-20T20:42:25.742746Z",
     "start_time": "2018-12-20T20:42:25.731753Z"
    }
   },
   "outputs": [],
   "source": [
    "def word_break_complete(dct, st):\n",
    "    size = len(st)\n",
    "    prefixes = [None for _ in range(size)]\n",
    "    build_pref_list(dct, st, 0, size, prefixes)\n",
    "    log.debug('prefix list: %s', prefixes)\n",
    "    break_list = []\n",
    "    create_breaks(prefixes, break_list, size, 0, [])\n",
    "    return break_list\n",
    "\n",
    "def build_pref_list(dct, st, start, size, prefixes):\n",
    "    if prefixes[start] is None:\n",
    "        words = []\n",
    "        prefixes[start] = words\n",
    "        for i in range(start+1, size+1):\n",
    "            word = st[start:i]\n",
    "            if (word in dct):\n",
    "                log.debug('adding word: %s', word)\n",
    "                words.append(word)\n",
    "                if i < size:\n",
    "                    build_pref_list(dct, st, i, size, prefixes)\n",
    "                    \n",
    "def create_breaks(prefixes, break_list, size, i, l):\n",
    "    if prefixes[i] is not None:\n",
    "        for w in prefixes[i]:\n",
    "            wl, ll = len(w), list(l)\n",
    "            ll.append(w)\n",
    "            if i+wl < size:\n",
    "                create_breaks(prefixes, break_list, size, i+wl, ll)\n",
    "            else:\n",
    "                break_list.append(' '.join(ll))"
   ]
  },
  {
   "cell_type": "code",
   "execution_count": 23,
   "metadata": {
    "ExecuteTime": {
     "end_time": "2018-12-20T20:42:29.982723Z",
     "start_time": "2018-12-20T20:42:29.958737Z"
    }
   },
   "outputs": [
    {
     "name": "stderr",
     "output_type": "stream",
     "text": [
      "DEBUG:dynamic:adding word: Word\n",
      "DEBUG:dynamic:adding word: b\n",
      "DEBUG:dynamic:adding word: r\n",
      "DEBUG:dynamic:adding word: e\n",
      "DEBUG:dynamic:adding word: a\n",
      "DEBUG:dynamic:adding word: k\n",
      "DEBUG:dynamic:adding word: problem\n",
      "DEBUG:dynamic:adding word: Word\n",
      "DEBUG:dynamic:adding word: b\n",
      "DEBUG:dynamic:adding word: r\n",
      "DEBUG:dynamic:adding word: e\n",
      "DEBUG:dynamic:adding word: a\n",
      "DEBUG:dynamic:adding word: k\n",
      "DEBUG:dynamic:adding word: problem\n",
      "DEBUG:dynamic:adding word: ak\n",
      "DEBUG:dynamic:adding word: br\n",
      "DEBUG:dynamic:adding word: bre\n",
      "DEBUG:dynamic:adding word: brea\n",
      "DEBUG:dynamic:adding word: break\n",
      "DEBUG:dynamic:prefix list: [['Word'], None, None, None, ['b', 'br', 'bre', 'brea', 'break'], ['r'], ['e'], ['a', 'ak'], ['k'], ['problem'], None, None, None, None, None, None]\n"
     ]
    },
    {
     "name": "stdout",
     "output_type": "stream",
     "text": [
      "['Word', 'b', 'r', 'e', 'a', 'k', 'problem']\n",
      "['Word b r e a k problem', 'Word b r e ak problem', 'Word br e a k problem', 'Word br e ak problem', 'Word bre a k problem', 'Word bre ak problem', 'Word brea k problem', 'Word break problem']\n"
     ]
    }
   ],
   "source": [
    "log.setLevel(logging.DEBUG)\n",
    "dct = { \"this\", \"th\", \"is\", \"famous\", \"Word\", \"break\", \"b\",\"r\", \"e\", \"a\", \"k\", \"br\", \"bre\", \"brea\", \"ak\", \"problem\" }\n",
    "st = \"Wordbreakproblem\"\n",
    "print(word_break(dct, st))\n",
    "print(word_break_complete(dct, st))"
   ]
  },
  {
   "cell_type": "markdown",
   "metadata": {},
   "source": [
    "## Cheapest path matrix problem\n",
    "\n",
    "You can only move right or down. Object is to get from top-left to bottom-right. The cost of the path is the sum of the numbers traversed. Find the lowest-cost path. Here is an example:\n",
    "\n",
    "$$\n",
    "\\begin{equation*}\n",
    "    \\begin{bmatrix}\n",
    "        \\color{red}{4} & 7 & 8 & 6 & 4 \\\\\n",
    "        \\color{red}6 & \\color{red}{7} & \\color{red}3 & 9 & 2 \\\\\n",
    "        3 & 8 & \\color{red}1 & \\color{red}2 & 4 \\\\\n",
    "        7 & 1 & 7 & \\color{red}3 & \\color{red}7 \\\\\n",
    "        2 & 9 & 8 & 9 & \\color{red}3 \\\\\n",
    "    \\end{bmatrix}\n",
    "\\end{equation*}\n",
    "$$\n",
    "\n",
    "Path is highlighted in red."
   ]
  },
  {
   "cell_type": "code",
   "execution_count": 41,
   "metadata": {
    "ExecuteTime": {
     "end_time": "2018-12-21T18:43:07.154156Z",
     "start_time": "2018-12-21T18:43:07.143162Z"
    }
   },
   "outputs": [],
   "source": [
    "def find_path(m):\n",
    "    costs = np.full(fill_value=np.inf, shape=m.shape)\n",
    "    w,h = m.shape\n",
    "    costs[h-1, w-1] = m[h-1, w-1]\n",
    "    _fp(m, costs, 0, 0)\n",
    "    path = [(0,0)]\n",
    "    i,j = 0,0\n",
    "    while i+1 < h or j+1 < w:\n",
    "        if i+1 == h:\n",
    "            j += 1\n",
    "        elif j+1 == w:\n",
    "            i += 1\n",
    "        elif costs[i+1,j] < costs[i,j+1]:\n",
    "            i += 1\n",
    "        else:\n",
    "            j += 1\n",
    "        path.append((i,j))\n",
    "    return path\n",
    "\n",
    "def _fp(m, costs, i, j):\n",
    "    w,h = m.shape\n",
    "    if i == h or j == w:\n",
    "        return np.inf\n",
    "    if costs[i,j] < np.inf:\n",
    "        return costs[i,j]\n",
    "    cost = min(_fp(m, costs, i+1, j),\n",
    "               _fp(m, costs, i, j+1))\n",
    "    costs[i,j] = cost + m[i,j]\n",
    "    return costs[i,j]"
   ]
  },
  {
   "cell_type": "code",
   "execution_count": 51,
   "metadata": {
    "ExecuteTime": {
     "end_time": "2018-12-21T23:42:07.509087Z",
     "start_time": "2018-12-21T23:42:07.476105Z"
    }
   },
   "outputs": [
    {
     "name": "stdout",
     "output_type": "stream",
     "text": [
      "[(0, 0), (1, 0), (1, 1), (1, 2), (2, 2), (2, 3), (3, 3), (3, 4), (4, 4)]\n",
      "[(0, 0), (1, 0), (2, 0), (3, 0), (3, 1), (4, 1), (5, 1), (5, 2), (6, 2), (7, 2), (7, 3), (8, 3), (8, 4), (8, 5), (9, 5), (9, 6), (9, 7), (9, 8), (9, 9), (10, 9), (10, 10), (10, 11), (10, 12), (10, 13), (11, 13), (11, 14), (11, 15), (11, 16), (12, 16), (13, 16), (13, 17), (14, 17), (15, 17), (16, 17), (17, 17), (18, 17), (18, 18), (18, 19), (19, 19)]\n"
     ]
    }
   ],
   "source": [
    "m = np.array(\n",
    "[[ 4, 7, 8, 6, 4 ],\n",
    "[ 6, 7, 3, 9, 2 ],\n",
    "[ 3, 8, 1, 2, 4 ],\n",
    "[ 7, 1, 7, 3, 7 ],\n",
    "[ 2, 9, 8, 9, 3 ]\n",
    "])\n",
    "print(find_path(m))\n",
    "rm = np.random.randint(100, size=(20,20))\n",
    "# print(rm)\n",
    "path = find_path(rm)\n",
    "print(path)\n",
    "pdrm = pd.DataFrame(data=rm, dtype=str)\n",
    "for i,j in path:\n",
    "    pdrm.iloc[i,j] = '*' + pdrm.iloc[i,j]\n",
    "# print(pdrm)"
   ]
  },
  {
   "cell_type": "markdown",
   "metadata": {},
   "source": [
    "## Longest repeated subsequence\n",
    "\n",
    "Given the definition of a subsequence above (as distinct from a substring) find the longest sequence that occurs twice in the given string. The two sequences must share no letters, meaning that if you identify and remove a subsequence from the original string, you must be able to do that same step again given the remainder.\n",
    "\n",
    "### How am I going to do this\n",
    "\n",
    "First thing is to create a dict of the characters which points to the indexes where they show up.\n",
    "\n",
    "Then, go through the string. If a character only shows up once in the whole string, it can be completely ignored, since it won't be in a repeated subsequence and it will not affect the presence of another subsequence. When we encounter a character that occurs more than once, then we have to consider if it will be in the repeated subsquence or not, as it's not guaranteed that it will be.\n",
    "\n",
    "If we pick a letter, then we find its next pair, and check the letters in between. For each one in between, its pair must be after the pair for the previous letter, or else you cannot maintain the same order of the sequence. As soon as we pick the next paired letter, we have a new constraint for what that pair must be after. When there are no more letter pairs beginning in between the first and last of the found pairs, we have an isolated portion. Then, if the largest repeated subsequence contains the found sequences to this point, then the largest total repeated subsequence will be the found portion added to the longest repeated subsequence of the remaining string. That is a lot of words to describe what I am saying, I don't think that was very efficient. Here is an example:\n",
    "```\n",
    "[ADEFBGHCIABC][JKJK]\n",
    "```\n",
    "First we find A, jump ahead to the next A, which becomes the last characters, scan in between until we find another paired letter, B, and extend the end to the next B, do it again with C, and, then we've scanned the whole thing, and we can consider that portion of the string exhausted. Then we can start again at the next sequence, JKJK, and analyze that one separately.\n",
    "\n",
    "The issue is, when we hit a paired character, we can't assume that character will be in the longest repeated subsequence. Here's an example:\n",
    "```\n",
    "ABCBCADEFEFDGHIHIG\n",
    "```\n",
    "A naive algorithm would find A and assume it is in the subsequence, whereas the actual longest ss is `BCEFHI`."
   ]
  },
  {
   "cell_type": "code",
   "execution_count": 88,
   "metadata": {
    "ExecuteTime": {
     "end_time": "2018-12-22T01:17:09.491491Z",
     "start_time": "2018-12-22T01:17:09.478500Z"
    }
   },
   "outputs": [],
   "source": [
    "def longest_repeat_subsequence(st):\n",
    "    char_pos = {}\n",
    "    for i,c in enumerate(st):\n",
    "        try:\n",
    "            char_pos[c].append(i)\n",
    "        except KeyError:\n",
    "            char_pos[c] = [i]\n",
    "    log.debug(\"char maps: %s\", char_pos)\n",
    "    end, seq = -1, []\n",
    "    while end+1 < len(st):\n",
    "        end, s = _lrss_portion(st, dict(char_pos), end+1)\n",
    "        seq.extend(s)\n",
    "    return seq\n",
    "    \n",
    "def _lrss_portion(st, char_pos, start):\n",
    "    i, end = start, start + 1\n",
    "    seq = []\n",
    "    while i < end:\n",
    "        c = st[i]\n",
    "        try:\n",
    "            char_pos[c].pop(0)\n",
    "            pair = char_pos[c].pop(0)\n",
    "            if pair >= end:\n",
    "                log.debug('Found character with pair: %s, index %d',\n",
    "                          c, i)\n",
    "                end = pair\n",
    "                seq.append(c)\n",
    "        except IndexError:\n",
    "            pass\n",
    "        i += 1\n",
    "\n",
    "    log.debug('end index: %d, returning sequence: %s', end, seq)\n",
    "    return end, seq"
   ]
  },
  {
   "cell_type": "code",
   "execution_count": 89,
   "metadata": {
    "ExecuteTime": {
     "end_time": "2018-12-22T01:17:10.035796Z",
     "start_time": "2018-12-22T01:17:10.015806Z"
    }
   },
   "outputs": [
    {
     "name": "stderr",
     "output_type": "stream",
     "text": [
      "DEBUG:dynamic:char maps: {'A': [0, 2, 8], 'T': [1, 4], 'C': [3, 5], 'G': [6, 7]}\n",
      "DEBUG:dynamic:Found character with pair: A, index 0\n",
      "DEBUG:dynamic:Found character with pair: T, index 1\n",
      "DEBUG:dynamic:Found character with pair: C, index 3\n",
      "DEBUG:dynamic:end index: 5, returning sequence: ['A', 'T', 'C']\n",
      "DEBUG:dynamic:Found character with pair: G, index 6\n",
      "DEBUG:dynamic:end index: 7, returning sequence: ['G']\n",
      "DEBUG:dynamic:end index: 9, returning sequence: []\n",
      "DEBUG:dynamic:char maps: {'A': [0, 15], 'B': [1, 3], 'C': [2, 4], 'D': [5, 16], 'E': [6, 8], 'F': [7, 9], 'G': [10, 17], 'H': [11, 13], 'I': [12, 14]}\n",
      "DEBUG:dynamic:Found character with pair: A, index 0\n",
      "DEBUG:dynamic:Found character with pair: D, index 5\n",
      "DEBUG:dynamic:Found character with pair: G, index 10\n",
      "DEBUG:dynamic:end index: 17, returning sequence: ['A', 'D', 'G']\n"
     ]
    },
    {
     "name": "stdout",
     "output_type": "stream",
     "text": [
      "['A', 'T', 'C', 'G']\n",
      "['A', 'D', 'G']\n"
     ]
    }
   ],
   "source": [
    "log.setLevel(logging.DEBUG)\n",
    "st = 'ATACTCGGA'\n",
    "st2 = 'ABCBCDEFEFGHIHIADG'\n",
    "print(longest_repeat_subsequence(st))\n",
    "print(longest_repeat_subsequence(st2))"
   ]
  },
  {
   "cell_type": "code",
   "execution_count": null,
   "metadata": {},
   "outputs": [],
   "source": []
  }
 ],
 "metadata": {
  "kernelspec": {
   "display_name": "Python 3",
   "language": "python",
   "name": "python3"
  },
  "language_info": {
   "codemirror_mode": {
    "name": "ipython",
    "version": 3
   },
   "file_extension": ".py",
   "mimetype": "text/x-python",
   "name": "python",
   "nbconvert_exporter": "python",
   "pygments_lexer": "ipython3",
   "version": "3.6.5"
  }
 },
 "nbformat": 4,
 "nbformat_minor": 2
}

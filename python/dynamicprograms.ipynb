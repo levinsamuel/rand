{
 "cells": [
  {
   "cell_type": "code",
   "execution_count": 1,
   "metadata": {
    "ExecuteTime": {
     "end_time": "2018-12-20T05:33:08.229788Z",
     "start_time": "2018-12-20T05:33:05.472160Z"
    }
   },
   "outputs": [],
   "source": [
    "import pandas as pd\n",
    "import numpy as np\n",
    "import math, sys, logging\n",
    "logging.basicConfig()\n",
    "log = logging.getLogger('dynamic')\n",
    "log.setLevel(logging.INFO)"
   ]
  },
  {
   "cell_type": "markdown",
   "metadata": {},
   "source": [
    "## Shortest common supersequence\n",
    "\n",
    "Ok, so I was confused here, I thought a supersequence was one that directly contained its subsequences intact, so like how \"ABCDE\" contains \"ABC\" and \"CDE\". But the definition of subsequence also includes \"ACE\" as a subsequence, because it contains the same elements, the same number of times, in the same order. This is the difference between subsequences and substrings."
   ]
  },
  {
   "cell_type": "code",
   "execution_count": 2,
   "metadata": {
    "ExecuteTime": {
     "end_time": "2018-12-20T05:33:08.265567Z",
     "start_time": "2018-12-20T05:33:08.232606Z"
    }
   },
   "outputs": [
    {
     "name": "stdout",
     "output_type": "stream",
     "text": [
      "('c', 'd')\n",
      "   0  1\n",
      "0  a  c\n",
      "1  b  d\n",
      "bc\n"
     ]
    }
   ],
   "source": [
    "a = {0: ('a', 'b'), 1: ('c', 'd')}\n",
    "print(a[1])\n",
    "df = pd.DataFrame(a)\n",
    "print(df)\n",
    "ssl = pd.DataFrame(-1, index=range(6), columns=range(5), dtype=int)\n",
    "ssl\n",
    "ssl.rank(1)\n",
    "ssl.iat[3,4] = 1\n",
    "ssl[:] = -1\n",
    "ssl\n",
    "\n",
    "sss = 'abcd'\n",
    "print(sss[1:3])"
   ]
  },
  {
   "cell_type": "code",
   "execution_count": 3,
   "metadata": {
    "ExecuteTime": {
     "end_time": "2018-12-20T05:33:08.285510Z",
     "start_time": "2018-12-20T05:33:08.270537Z"
    }
   },
   "outputs": [],
   "source": [
    "def shortest_superseq(s1, s2):\n",
    "    l1, l2 = len(s1), len(s2)\n",
    "    seqs = pd.DataFrame(-1,\n",
    "        index=range(l1+1), columns=range(l2+1),\n",
    "        dtype=int)\n",
    "    _ss(s1, s2, l1, l2, seqs)\n",
    "    return seqs\n",
    "    \n",
    "def _ss(s1, s2, i, j, seqs):\n",
    "    prev = seqs.iat[i,j]\n",
    "    if prev != -1:\n",
    "        return prev\n",
    "    if i == 0:\n",
    "        ret = j\n",
    "    elif j == 0:\n",
    "        ret = i\n",
    "    elif s1[i-1] == s2[j-1]:\n",
    "        ret = _ss(s1, s2, i-1, j-1, seqs) + 1\n",
    "    else:\n",
    "        r1 = _ss(s1, s2, i-1, j, seqs) + 1\n",
    "        r2 = _ss(s1, s2, i, j-1, seqs) + 1\n",
    "        ret = min(r1, r2)\n",
    "    seqs.iat[i,j] = ret\n",
    "    return ret\n",
    "        "
   ]
  },
  {
   "cell_type": "code",
   "execution_count": 4,
   "metadata": {
    "ExecuteTime": {
     "end_time": "2018-12-20T05:33:08.316949Z",
     "start_time": "2018-12-20T05:33:08.290499Z"
    }
   },
   "outputs": [],
   "source": [
    "def find_supersequences(seqs, s1, s2):\n",
    "    l1, l2 = len(s1), len(s2)\n",
    "    sl = []\n",
    "    msl = seqs.iat[l1, l2]\n",
    "    _fss(seqs, s1, s2, l1, l2, sl, '')\n",
    "    return sl\n",
    "    \n",
    "def _fss(seqs, s1, s2, i, j, sl, s):\n",
    "    p = seqs.iat[i,j]\n",
    "    if i == 0:\n",
    "        sl.append(s2[0:j]+s)\n",
    "    elif j == 0:\n",
    "        sl.append(s1[0:i]+s)\n",
    "    else:\n",
    "        if s1[i-1] == s2[j-1]:\n",
    "            _fss(seqs, s1, s2, i-1, j-1, sl, s1[i-1]+s)\n",
    "        else:\n",
    "            if seqs.iat[i,j] - 1 == seqs.iat[i-1,j]:\n",
    "                _fss(seqs, s1, s2, i-1, j, sl, s1[i-1]+s)\n",
    "            if seqs.iat[i,j] - 1 == seqs.iat[i,j-1]:\n",
    "                _fss(seqs, s1, s2, i, j-1, sl, s2[j-1]+s)\n",
    "    "
   ]
  },
  {
   "cell_type": "code",
   "execution_count": 5,
   "metadata": {
    "ExecuteTime": {
     "end_time": "2018-12-20T05:33:08.391811Z",
     "start_time": "2018-12-20T05:33:08.321443Z"
    }
   },
   "outputs": [
    {
     "name": "stdout",
     "output_type": "stream",
     "text": [
      "       0   1   2   3   4   5   6   7  str\n",
      "0     -1   1  -1   3  -1  -1  -1  -1  NaN\n",
      "1      1   2   2   3   4  -1  -1  -1    B\n",
      "2      2   3   3   4   5   5  -1  -1    D\n",
      "3      3   4   4   4   5   6  -1  -1    C\n",
      "4     -1   4   5   5   6   7   7  -1    A\n",
      "5     -1  -1  -1  -1   6   7  -1   8    B\n",
      "6     -1  -1  -1  -1  -1  -1   8   9    A\n",
      "str  NaN   A   B   C   B   D   A   B  NaN\n"
     ]
    },
    {
     "data": {
      "text/plain": [
       "['ABDCABDAB', 'ABDCBDABA', 'ABCBDCABA']"
      ]
     },
     "execution_count": 5,
     "metadata": {},
     "output_type": "execute_result"
    }
   ],
   "source": [
    "s1 = 'ABCBDAB'\n",
    "s2 = 'BDCABA'\n",
    "seqs = shortest_superseq(s1, s2)\n",
    "seqslabeled = seqs.copy()\n",
    "seqslabeled.loc[1:,('str')] = list(s1)\n",
    "seqslabeled = seqslabeled.T\n",
    "seqslabeled.loc[1:-1,('str')] = list(s2)\n",
    "print(seqslabeled)\n",
    "seqlist = find_supersequences(seqs, s1, s2)\n",
    "seqlist\n"
   ]
  },
  {
   "cell_type": "markdown",
   "metadata": {},
   "source": [
    "## Word break problem\n",
    "\n",
    "Given a dictionary and a condensed string of non-whitespace characters, split the string up into combinations of words in the dictionary. Both determine if it is possible, and find all the satisfying strings."
   ]
  },
  {
   "cell_type": "code",
   "execution_count": 6,
   "metadata": {
    "ExecuteTime": {
     "end_time": "2018-12-20T05:33:08.419279Z",
     "start_time": "2018-12-20T05:33:08.397304Z"
    }
   },
   "outputs": [],
   "source": [
    "def word_break(dct, st):\n",
    "    last = len(st)\n",
    "    words = []\n",
    "    if _wb(dct, st, 0, 1, last, words):\n",
    "        return words\n",
    "    else:\n",
    "        return None\n",
    "\n",
    "def _wb(dct, st, start, end, last, words):\n",
    "    word = st[start:end]\n",
    "    if (word in dct):\n",
    "        log.debug('adding word: %s', word)\n",
    "        words.append(word)\n",
    "        if end == last:\n",
    "            return True\n",
    "        else:\n",
    "            return _wb(dct, st, end, end+1, last, words)\n",
    "    else:\n",
    "        if end == last:\n",
    "            return False\n",
    "        else:\n",
    "            return _wb(dct, st, start, end+1, last, words)"
   ]
  },
  {
   "cell_type": "markdown",
   "metadata": {},
   "source": [
    "### Dynamic approach\n",
    "\n",
    "Given that this is from a dynamic programming list, it makes sense that this would exist. Once we identify any word or group of words from one portion of the string, and we know those are all the words in that substring, then we can do the same for the remaining string separately, and each combination of breakups of each of those two strings becomes the total combinations for all breaks that have a separation at that point. Each individual calculation is also a microcosm of the original problem, which is to say, the algorithm that solves the problem generally would be applied as-is to each substring.\n",
    "\n",
    "Ex: \"pickaxeatone\" -> if separated into \"pickaxe\" and \"atone\", we can look at each separate string in isolation. If you look at \"atone\" and find \"atone\", \"a tone\", and \"at one\", then you know that the total combination involving that substring will be those combinations crossed with the combinations made from the remaining substring.\n",
    "\n",
    "Therefore, what I want to do is constract a 2D array, where each place in the outer array represents the starting substring index, and each item in the inner array at that point is the list of words beginning at that point (\"a\" , \"at\", and \"atone\" in the prior example, if we start at \"a\"). Then to find the other combinations, you move forward in the outer array by the length of that string. Do that recursives and get all your combinations."
   ]
  },
  {
   "cell_type": "code",
   "execution_count": 6,
   "metadata": {
    "ExecuteTime": {
     "end_time": "2018-12-20T05:33:08.419279Z",
     "start_time": "2018-12-20T05:33:08.397304Z"
    }
   },
   "outputs": [],
   "source": [
    "def word_break_complete(dct, st):\n",
    "    last = len(st)\n",
    "    return _wbc(dct, st, 0, last):\n",
    "\n",
    "def _wbc(dct, st, start, last):\n",
    "    for i in range(start+1, last):\n",
    "        word = st[start:i]\n",
    "        if (word in dct):\n",
    "            words = []\n",
    "            log.debug('adding word: %s', word)\n",
    "            words.append(word)\n",
    "            if end == last:\n",
    "                return True\n",
    "            else:\n",
    "                return _wbc(dct, st, end, end+1, last)"
   ]
  },
  {
   "cell_type": "code",
   "execution_count": 7,
   "metadata": {
    "ExecuteTime": {
     "end_time": "2018-12-20T05:33:08.475155Z",
     "start_time": "2018-12-20T05:33:08.425249Z"
    }
   },
   "outputs": [
    {
     "name": "stderr",
     "output_type": "stream",
     "text": [
      "DEBUG:dynamic:adding word: Word\n",
      "DEBUG:dynamic:adding word: b\n",
      "DEBUG:dynamic:adding word: r\n",
      "DEBUG:dynamic:adding word: e\n",
      "DEBUG:dynamic:adding word: a\n",
      "DEBUG:dynamic:adding word: k\n",
      "DEBUG:dynamic:adding word: problem\n"
     ]
    },
    {
     "name": "stdout",
     "output_type": "stream",
     "text": [
      "['Word', 'b', 'r', 'e', 'a', 'k', 'problem']\n"
     ]
    }
   ],
   "source": [
    "log.setLevel(logging.DEBUG)\n",
    "dct = { \"this\", \"th\", \"is\", \"famous\", \"Word\", \"break\", \"b\",\"r\", \"e\", \"a\", \"k\", \"br\", \"bre\", \"brea\", \"ak\", \"problem\" }\n",
    "st = \"Wordbreakproblem\"\n",
    "print(word_break(dct, st))"
   ]
  }
 ],
 "metadata": {
  "kernelspec": {
   "display_name": "Python 3",
   "language": "python",
   "name": "python3"
  },
  "language_info": {
   "codemirror_mode": {
    "name": "ipython",
    "version": 3
   },
   "file_extension": ".py",
   "mimetype": "text/x-python",
   "name": "python",
   "nbconvert_exporter": "python",
   "pygments_lexer": "ipython3",
   "version": "3.6.5"
  }
 },
 "nbformat": 4,
 "nbformat_minor": 2
}

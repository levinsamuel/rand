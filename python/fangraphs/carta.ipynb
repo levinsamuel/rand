{
 "cells": [
  {
   "cell_type": "code",
   "execution_count": 98,
   "metadata": {
    "ExecuteTime": {
     "end_time": "2019-02-13T21:53:48.132827Z",
     "start_time": "2019-02-13T21:53:48.123832Z"
    }
   },
   "outputs": [],
   "source": [
    "import logging\n",
    "logging.basicConfig()\n",
    "\n",
    "log = logging.getLogger('test')\n",
    "\n",
    "\n",
    "expected = [1,2,3,4,5,6,7,8,9]\n",
    "\n",
    "def validate(arr, sortmethod=False):\n",
    "    if arr is None or len(arr) != 9:\n",
    "        return False\n",
    "    \n",
    "    if sortmethod:\n",
    "        s = sorted(arr)\n",
    "        for i in range(9):\n",
    "            if i+1 != s[i]:\n",
    "                return False\n",
    "        return True\n",
    "    else:\n",
    "        s = sorted(arr)\n",
    "        return s == expected\n"
   ]
  },
  {
   "cell_type": "code",
   "execution_count": 27,
   "metadata": {
    "ExecuteTime": {
     "end_time": "2019-02-13T21:30:49.741046Z",
     "start_time": "2019-02-13T21:30:49.734539Z"
    }
   },
   "outputs": [],
   "source": [
    "tc = [1, 2, 3, 4, 5, 9, 7, 6, 8]\n",
    "tc2 = [0, 1, 2, 3, 4, 5, 6, 7, 8, 9]"
   ]
  },
  {
   "cell_type": "code",
   "execution_count": 28,
   "metadata": {
    "ExecuteTime": {
     "end_time": "2019-02-13T21:30:50.794129Z",
     "start_time": "2019-02-13T21:30:50.787135Z"
    }
   },
   "outputs": [],
   "source": [
    "def benchmark(n, sm=True):\n",
    "    for _ in range(n):\n",
    "        assert validate(tc, sortmethod=sm)\n",
    "        assert not validate(tc2, sortmethod=sm)\n",
    "\n",
    "        assert not validate(None, sortmethod=sm)\n",
    "        assert not validate([], sortmethod=sm)"
   ]
  },
  {
   "cell_type": "code",
   "execution_count": 29,
   "metadata": {
    "ExecuteTime": {
     "end_time": "2019-02-13T21:30:55.729912Z",
     "start_time": "2019-02-13T21:30:51.808699Z"
    }
   },
   "outputs": [
    {
     "name": "stdout",
     "output_type": "stream",
     "text": [
      "4.91 µs ± 669 ns per loop (mean ± std. dev. of 7 runs, 100000 loops each)\n"
     ]
    }
   ],
   "source": [
    "%timeit benchmark(1, True)"
   ]
  },
  {
   "cell_type": "code",
   "execution_count": 32,
   "metadata": {
    "ExecuteTime": {
     "end_time": "2019-02-13T21:31:30.067427Z",
     "start_time": "2019-02-13T21:31:27.591796Z"
    }
   },
   "outputs": [
    {
     "name": "stdout",
     "output_type": "stream",
     "text": [
      "2.96 µs ± 147 ns per loop (mean ± std. dev. of 7 runs, 100000 loops each)\n"
     ]
    }
   ],
   "source": [
    "%timeit benchmark(1, False)"
   ]
  },
  {
   "cell_type": "code",
   "execution_count": 88,
   "metadata": {
    "ExecuteTime": {
     "end_time": "2019-02-13T21:52:42.360998Z",
     "start_time": "2019-02-13T21:52:42.331016Z"
    }
   },
   "outputs": [],
   "source": [
    "### Part 3\n",
    "\n",
    "# Given a 9 x 9 (2-dimensional array) board, ensure that it's a valid solved sudoku board. Optimize it\n",
    "\n",
    "\n",
    "# Valid matrix\n",
    "\n",
    "v1 =  [ [5, 3, 4, 6, 7, 8, 9, 1, 2],\n",
    "      [6, 7, 2, 1, 9, 5, 3, 4, 8],\n",
    "      [1, 9, 8, 3, 4, 2, 5, 6, 7],\n",
    "\n",
    "      [8, 5, 9, 7, 6, 1, 4, 2, 3],\n",
    "      [4, 2, 6, 8, 5, 3, 7, 9, 1],\n",
    "      [7, 1, 3, 9, 2, 4, 8, 5, 6],\n",
    "\n",
    "      [9, 6, 1, 5, 3, 7, 2, 8, 4],\n",
    "      [2, 8, 7, 4, 1, 9, 6, 3, 5],\n",
    "      [3, 4, 5, 2, 8, 6, 1, 7, 9]]\n",
    "\n",
    "\n",
    "inv1= [ [1, 2, 3, 4, 5, 6, 7, 8, 9],\n",
    "      [1, 2, 3, 4, 5, 6, 7, 8, 9],\n",
    "      [1, 2, 3, 4, 5, 6, 7, 8, 9],\n",
    "     \n",
    "      [1, 2, 3, 4, 5, 6, 7, 8, 9],\n",
    "      [1, 2, 3, 4, 5, 6, 7, 8, 9],\n",
    "      [1, 2, 3, 4, 5, 6, 7, 8, 9],\n",
    "     \n",
    "      [1, 2, 3, 4, 5, 6, 7, 8, 9],\n",
    "      [1, 2, 3, 4, 5, 6, 7, 8, 9],\n",
    "      [1, 2, 3, 4, 5, 6, 7, 8, 9]]\n",
    "\n",
    "inv2 = [ [5, 3, 4, 6, 7, 8, 9, 1, 2],\n",
    "      [6, 7, 2, 1, 9, 5, 3, 4, 8],\n",
    "      [1, 9, 8, 3, 4, 2, 5, 6, 7],\n",
    "        \n",
    "      [8, 5, 9, 7, 6, 1, 4, 2, 3],\n",
    "      [4, 2, 6, 8, 5, 3, 7, 9, 1],\n",
    "      [7, 1, 3, 9, 2, 4, 8, 5, 6],\n",
    "        \n",
    "      [9, 6, 1, 5, 3, 7, 2, 8, 4],\n",
    "      [2, 8, 7, 4, 1, 9, 6, 3, 5],\n",
    "      [3, 4, 5, 2, 8, 6, 1, 9, 7]\n",
    "    ]\n",
    "\n",
    "inv3=[[5, 3, 4, 6, 7, 8, 9, 1, 2],\n",
    "      [6, 7, 2, 1, 9, 5, 3, 4, 8],\n",
    "      [1, 9, 8, 3, 4, 2, 5, 6, 7],\n",
    "\n",
    "      [8, 5, 9, 7, 6, 1, 4, 2, 3],\n",
    "      [4, 2, 6, 8, 5, 3, 7, 9, 1],\n",
    "      [7, 1, 3, 9, 2, 4, 8, 5, 6],\n",
    "\n",
    "      [9, 6, 1, 5, 3, 7, 3, 8, 4],\n",
    "      [2, 8, 7, 4, 1, 9, 6, 3, 5],\n",
    "      [3, 4, 5, 2, 8, 6, 1, 7, 9]]"
   ]
  },
  {
   "cell_type": "code",
   "execution_count": 109,
   "metadata": {
    "ExecuteTime": {
     "end_time": "2019-02-13T21:56:21.989564Z",
     "start_time": "2019-02-13T21:56:21.982269Z"
    }
   },
   "outputs": [],
   "source": [
    "def validateBoard(m, validateRowsAndColumns=True):\n",
    "    if validateRowsAndColumns:\n",
    "        if m is None or len(m) != 9:\n",
    "            return False\n",
    "        for inner in m:\n",
    "            if not validate(inner):\n",
    "                return False\n",
    "\n",
    "        for i in range(9):\n",
    "            col = [r[i] for r in m]\n",
    "            if not validate(col):\n",
    "                return False\n",
    "    \n",
    "    for i in range(0,9,3):\n",
    "        for j in range(0,9,3):\n",
    "            \n",
    "            box = [r[j:j+3] for r in m[i:i+3]]\n",
    "            line = [b for r in box for b in r]\n",
    "            log.debug('line: %s', line)\n",
    "            if not validate(line):\n",
    "                return False\n",
    "            \n",
    "    return True"
   ]
  },
  {
   "cell_type": "code",
   "execution_count": 110,
   "metadata": {
    "ExecuteTime": {
     "end_time": "2019-02-13T21:56:22.364900Z",
     "start_time": "2019-02-13T21:56:22.357900Z"
    }
   },
   "outputs": [],
   "source": [
    "def check(testcase=None):\n",
    "    assert validateBoard(v1)\n",
    "    assert not validateBoard(inv1)\n",
    "    assert not validateBoard(inv2)\n",
    "    assert not validateBoard(inv3, False)"
   ]
  },
  {
   "cell_type": "code",
   "execution_count": 111,
   "metadata": {
    "ExecuteTime": {
     "end_time": "2019-02-13T21:56:22.792300Z",
     "start_time": "2019-02-13T21:56:22.765315Z"
    }
   },
   "outputs": [
    {
     "name": "stderr",
     "output_type": "stream",
     "text": [
      "DEBUG:test:line: [5, 3, 4, 6, 7, 2, 1, 9, 8]\n",
      "DEBUG:test:line: [6, 7, 8, 1, 9, 5, 3, 4, 2]\n",
      "DEBUG:test:line: [9, 1, 2, 3, 4, 8, 5, 6, 7]\n",
      "DEBUG:test:line: [8, 5, 9, 4, 2, 6, 7, 1, 3]\n",
      "DEBUG:test:line: [7, 6, 1, 8, 5, 3, 9, 2, 4]\n",
      "DEBUG:test:line: [4, 2, 3, 7, 9, 1, 8, 5, 6]\n",
      "DEBUG:test:line: [9, 6, 1, 2, 8, 7, 3, 4, 5]\n",
      "DEBUG:test:line: [5, 3, 7, 4, 1, 9, 2, 8, 6]\n",
      "DEBUG:test:line: [2, 8, 4, 6, 3, 5, 1, 7, 9]\n",
      "DEBUG:test:line: [5, 3, 4, 6, 7, 2, 1, 9, 8]\n",
      "DEBUG:test:line: [6, 7, 8, 1, 9, 5, 3, 4, 2]\n",
      "DEBUG:test:line: [9, 1, 2, 3, 4, 8, 5, 6, 7]\n",
      "DEBUG:test:line: [8, 5, 9, 4, 2, 6, 7, 1, 3]\n",
      "DEBUG:test:line: [7, 6, 1, 8, 5, 3, 9, 2, 4]\n",
      "DEBUG:test:line: [4, 2, 3, 7, 9, 1, 8, 5, 6]\n",
      "DEBUG:test:line: [9, 6, 1, 2, 8, 7, 3, 4, 5]\n",
      "DEBUG:test:line: [5, 3, 7, 4, 1, 9, 2, 8, 6]\n",
      "DEBUG:test:line: [3, 8, 4, 6, 3, 5, 1, 7, 9]\n"
     ]
    }
   ],
   "source": [
    "log.setLevel(logging.DEBUG)\n",
    "check()"
   ]
  },
  {
   "cell_type": "code",
   "execution_count": 53,
   "metadata": {
    "ExecuteTime": {
     "end_time": "2019-02-13T21:44:50.859346Z",
     "start_time": "2019-02-13T21:44:50.848354Z"
    }
   },
   "outputs": [
    {
     "data": {
      "text/plain": [
       "[7, 6, 1, 8, 5, 3, 9, 2, 4]"
      ]
     },
     "execution_count": 53,
     "metadata": {},
     "output_type": "execute_result"
    }
   ],
   "source": [
    "i = 3\n",
    "# rows = v1[i:i+3]\n",
    "# print(rows)\n",
    "j = 3\n",
    "box = [r[j:j+3] for r in v1[i:i+3]]\n",
    "line = []\n",
    "for r in box:\n",
    "    line.extend(r)\n",
    "line"
   ]
  },
  {
   "cell_type": "code",
   "execution_count": null,
   "metadata": {},
   "outputs": [],
   "source": []
  }
 ],
 "metadata": {
  "kernelspec": {
   "display_name": "Python 3",
   "language": "python",
   "name": "python3"
  },
  "language_info": {
   "codemirror_mode": {
    "name": "ipython",
    "version": 3
   },
   "file_extension": ".py",
   "mimetype": "text/x-python",
   "name": "python",
   "nbconvert_exporter": "python",
   "pygments_lexer": "ipython3",
   "version": "3.6.5"
  }
 },
 "nbformat": 4,
 "nbformat_minor": 2
}

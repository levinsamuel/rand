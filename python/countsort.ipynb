{
 "cells": [
  {
   "cell_type": "code",
   "execution_count": 9,
   "metadata": {
    "ExecuteTime": {
     "end_time": "2018-12-14T00:43:13.236662Z",
     "start_time": "2018-12-14T00:43:13.229177Z"
    }
   },
   "outputs": [],
   "source": [
    "import sys, math, random\n",
    "exinp = \"\"\"1324\n",
    "3415436\n",
    "1023422\n",
    "03517\n",
    "3555\"\"\".split()\n",
    "debug = True"
   ]
  },
  {
   "cell_type": "code",
   "execution_count": 2,
   "metadata": {
    "ExecuteTime": {
     "end_time": "2018-12-13T22:26:28.801960Z",
     "start_time": "2018-12-13T22:26:28.773014Z"
    }
   },
   "outputs": [],
   "source": [
    "def log(*msgs):\n",
    "    if debug:\n",
    "        sys.stderr.write(' '.join(str(m) for m in msgs) + \"\\n\")"
   ]
  },
  {
   "cell_type": "code",
   "execution_count": 4,
   "metadata": {
    "ExecuteTime": {
     "end_time": "2018-12-13T22:26:54.159163Z",
     "start_time": "2018-12-13T22:26:54.030401Z"
    }
   },
   "outputs": [
    {
     "ename": "ValueError",
     "evalue": "min() arg is an empty sequence",
     "output_type": "error",
     "traceback": [
      "\u001b[1;31m---------------------------------------------------------------------------\u001b[0m",
      "\u001b[1;31mValueError\u001b[0m                                Traceback (most recent call last)",
      "\u001b[1;32m<ipython-input-4-3cb116e67673>\u001b[0m in \u001b[0;36m<module>\u001b[1;34m\u001b[0m\n\u001b[0;32m      2\u001b[0m \u001b[0mgeteven\u001b[0m \u001b[1;33m=\u001b[0m \u001b[1;32mlambda\u001b[0m \u001b[0ma\u001b[0m\u001b[1;33m:\u001b[0m \u001b[0ma\u001b[0m\u001b[1;33m%\u001b[0m\u001b[1;36m2\u001b[0m\u001b[1;33m==\u001b[0m\u001b[1;36m0\u001b[0m\u001b[1;33m\u001b[0m\u001b[0m\n\u001b[0;32m      3\u001b[0m \u001b[0mmin\u001b[0m\u001b[1;33m(\u001b[0m\u001b[0mfilter\u001b[0m\u001b[1;33m(\u001b[0m\u001b[0mgeteven\u001b[0m\u001b[1;33m,\u001b[0m \u001b[0ma\u001b[0m\u001b[1;33m)\u001b[0m\u001b[1;33m)\u001b[0m\u001b[1;33m\u001b[0m\u001b[0m\n\u001b[1;32m----> 4\u001b[1;33m \u001b[0mmin\u001b[0m\u001b[1;33m(\u001b[0m\u001b[0mfilter\u001b[0m\u001b[1;33m(\u001b[0m\u001b[0mgeteven\u001b[0m\u001b[1;33m,\u001b[0m \u001b[1;33m[\u001b[0m\u001b[1;36m1\u001b[0m\u001b[1;33m,\u001b[0m\u001b[1;36m3\u001b[0m\u001b[1;33m]\u001b[0m\u001b[1;33m)\u001b[0m\u001b[1;33m)\u001b[0m\u001b[1;33m\u001b[0m\u001b[0m\n\u001b[0m",
      "\u001b[1;31mValueError\u001b[0m: min() arg is an empty sequence"
     ]
    }
   ],
   "source": [
    "a=[1,2,3,4]\n",
    "geteven = lambda a: a%2==0\n",
    "min(filter(geteven, a))\n",
    "min(filter(geteven, [1,3]))\n"
   ]
  },
  {
   "cell_type": "code",
   "execution_count": 22,
   "metadata": {
    "ExecuteTime": {
     "end_time": "2018-12-14T00:47:41.199743Z",
     "start_time": "2018-12-14T00:47:41.189263Z"
    }
   },
   "outputs": [],
   "source": [
    "class MinLoc(object):\n",
    "    def __init__(self):\n",
    "        self.num = 20\n",
    "        self.ind = -1\n",
    "\n",
    "def count_sort(nums, reverse=False):\n",
    "    counts = [0]*10\n",
    "    minevn = MinLoc()\n",
    "    minodd = MinLoc()\n",
    "    for i, n in enumerate(nums):\n",
    "        counts[n] += 1\n",
    "        if n % 2 == 0 and n < minevn.num:\n",
    "            minevn.num = n\n",
    "            minevn.ind = i\n",
    "        elif n % 2 == 1 and n < minodd.num:\n",
    "            minodd.num = n\n",
    "            minodd.ind = i\n",
    "    minodd.num += 10\n",
    "    minind = min(minevn, minodd, key=lambda a: a.num)\n",
    "    counts[minind.num % 10] -= 1\n",
    "    nums2 = list(nums)\n",
    "    mn = nums2.pop(minind.ind)\n",
    "    sm = 0\n",
    "    if reverse:\n",
    "        for n in range(10):\n",
    "            i = 10 - (n+1)\n",
    "            sm += counts[i]\n",
    "            counts[i] = sm\n",
    "    else:\n",
    "        for n in range(10):\n",
    "            sm += counts[n]\n",
    "            counts[n] = sm\n",
    "    log(\"counts:\", counts)\n",
    "    log(\"nums2:\", nums2)\n",
    "    ret = [0]*len(nums2)\n",
    "    for n in nums2:\n",
    "        ret[counts[n] - 1] = n\n",
    "        counts[n] -= 1\n",
    "    if reverse:\n",
    "        ret.append(mn)\n",
    "    else:\n",
    "        ret.insert(0, mn)\n",
    "    log('ret:', ret)\n",
    "    return ret"
   ]
  },
  {
   "cell_type": "code",
   "execution_count": 65,
   "metadata": {
    "ExecuteTime": {
     "end_time": "2018-12-14T07:26:20.678581Z",
     "start_time": "2018-12-14T07:26:20.667081Z"
    }
   },
   "outputs": [],
   "source": [
    "def count_sort_simpler(nums, dig=1):\n",
    "    counts = [0]*10\n",
    "    a = 10**(dig-1)\n",
    "    for n in nums:\n",
    "        d = (n // a)%10\n",
    "        counts[n] += 1\n",
    "    sm = 0\n",
    "    for n in range(10):\n",
    "        sm += counts[n]\n",
    "        counts[n] = sm\n",
    "    ret = [0]*len(nums)\n",
    "    for n in nums:\n",
    "        ret[counts[n] - 1] = n\n",
    "        counts[n] -= 1\n",
    "    return ret"
   ]
  },
  {
   "cell_type": "code",
   "execution_count": 66,
   "metadata": {
    "ExecuteTime": {
     "end_time": "2018-12-14T07:26:31.145489Z",
     "start_time": "2018-12-14T07:26:31.138501Z"
    }
   },
   "outputs": [
    {
     "name": "stdout",
     "output_type": "stream",
     "text": [
      "4321\n",
      "6544331\n",
      "4322210\n",
      "75310\n",
      "5553\n"
     ]
    }
   ],
   "source": [
    "for ex in exinp:\n",
    "    exar = [int(n) for n in ex]\n",
    "    numarr = count_sort_simpler(exar)\n",
    "    num = sum(c*10**i for i,c in enumerate(numarr))\n",
    "    print(num)"
   ]
  },
  {
   "cell_type": "code",
   "execution_count": null,
   "metadata": {},
   "outputs": [],
   "source": []
  }
 ],
 "metadata": {
  "kernelspec": {
   "display_name": "Python 3",
   "language": "python",
   "name": "python3"
  },
  "language_info": {
   "codemirror_mode": {
    "name": "ipython",
    "version": 3
   },
   "file_extension": ".py",
   "mimetype": "text/x-python",
   "name": "python",
   "nbconvert_exporter": "python",
   "pygments_lexer": "ipython3",
   "version": "3.6.5"
  }
 },
 "nbformat": 4,
 "nbformat_minor": 2
}

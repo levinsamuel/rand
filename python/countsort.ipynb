{
 "cells": [
  {
   "cell_type": "code",
   "execution_count": 181,
   "metadata": {
    "ExecuteTime": {
     "end_time": "2018-12-16T05:41:13.099576Z",
     "start_time": "2018-12-16T05:41:13.089098Z"
    }
   },
   "outputs": [],
   "source": [
    "import sys, math, random, logging\n",
    "import numpy as np\n",
    "exinp = \"\"\"1324\n",
    "3415436\n",
    "1023422\n",
    "03517\n",
    "3555\"\"\".split()\n",
    "debug = True\n",
    "logging.basicConfig(level=logging.INFO)\n",
    "log = logging.getLogger('sorttest')"
   ]
  },
  {
   "cell_type": "code",
   "execution_count": null,
   "metadata": {
    "ExecuteTime": {
     "end_time": "2018-12-13T22:26:28.801960Z",
     "start_time": "2018-12-13T22:26:28.773014Z"
    }
   },
   "outputs": [],
   "source": [
    "def log(*msgs):\n",
    "    if debug:\n",
    "        sys.stderr.write(' '.join(str(m) for m in msgs) + \"\\n\")"
   ]
  },
  {
   "cell_type": "code",
   "execution_count": null,
   "metadata": {
    "ExecuteTime": {
     "end_time": "2018-12-14T00:47:41.199743Z",
     "start_time": "2018-12-14T00:47:41.189263Z"
    }
   },
   "outputs": [],
   "source": [
    "class MinLoc(object):\n",
    "    def __init__(self):\n",
    "        self.num = 20\n",
    "        self.ind = -1\n",
    "\n",
    "def count_sort(nums, reverse=False):\n",
    "    counts = [0]*10\n",
    "    minevn = MinLoc()\n",
    "    minodd = MinLoc()\n",
    "    for i, n in enumerate(nums):\n",
    "        counts[n] += 1\n",
    "        if n % 2 == 0 and n < minevn.num:\n",
    "            minevn.num = n\n",
    "            minevn.ind = i\n",
    "        elif n % 2 == 1 and n < minodd.num:\n",
    "            minodd.num = n\n",
    "            minodd.ind = i\n",
    "    minodd.num += 10\n",
    "    minind = min(minevn, minodd, key=lambda a: a.num)\n",
    "    counts[minind.num % 10] -= 1\n",
    "    nums2 = list(nums)\n",
    "    mn = nums2.pop(minind.ind)\n",
    "    sm = 0\n",
    "    if reverse:\n",
    "        for n in range(10):\n",
    "            i = 10 - (n+1)\n",
    "            sm += counts[i]\n",
    "            counts[i] = sm\n",
    "    else:\n",
    "        for n in range(10):\n",
    "            sm += counts[n]\n",
    "            counts[n] = sm\n",
    "    log(\"counts:\", counts)\n",
    "    log(\"nums2:\", nums2)\n",
    "    ret = [0]*len(nums2)\n",
    "    for n in nums2:\n",
    "        ret[counts[n] - 1] = n\n",
    "        counts[n] -= 1\n",
    "    if reverse:\n",
    "        ret.append(mn)\n",
    "    else:\n",
    "        ret.insert(0, mn)\n",
    "    log('ret:', ret)\n",
    "    return ret"
   ]
  },
  {
   "cell_type": "code",
   "execution_count": null,
   "metadata": {
    "ExecuteTime": {
     "end_time": "2018-12-14T20:11:39.151064Z",
     "start_time": "2018-12-14T20:11:39.145076Z"
    }
   },
   "outputs": [],
   "source": [
    "def count_sort_simpler(nums, dig=1):\n",
    "    counts = [0]*10\n",
    "    a = 10**(dig-1)\n",
    "    for n in nums:\n",
    "        d = (n // a)%10\n",
    "        counts[d] += 1\n",
    "    sm = 0\n",
    "    for n in range(9):\n",
    "        sm += counts[n]\n",
    "        counts[n] = sm\n",
    "    counts[9] = 0\n",
    "    ret = [0]*len(nums)\n",
    "    for n in nums:\n",
    "        d = (n // a)%10 - 1\n",
    "        ret[counts[d]] = n\n",
    "        counts[d] += 1\n",
    "    return ret\n",
    "\n",
    "def radix_sort(nums, digs):\n",
    "    for i in range(digs):\n",
    "        nums = count_sort_simpler(nums, i+1)\n",
    "    return nums"
   ]
  },
  {
   "cell_type": "code",
   "execution_count": null,
   "metadata": {
    "ExecuteTime": {
     "end_time": "2018-12-14T07:26:31.145489Z",
     "start_time": "2018-12-14T07:26:31.138501Z"
    }
   },
   "outputs": [],
   "source": [
    "for ex in exinp:\n",
    "    exar = [int(n) for n in ex]\n",
    "    numarr = count_sort_simpler(exar)\n",
    "    num = sum(c*10**i for i,c in enumerate(numarr))\n",
    "    print(num)\n",
    "\n",
    "arr = [random.randrange(10000) for _ in range(100)]\n",
    "sarr = radix_sort(arr, 4)"
   ]
  },
  {
   "cell_type": "code",
   "execution_count": 154,
   "metadata": {
    "ExecuteTime": {
     "end_time": "2018-12-15T02:48:49.817085Z",
     "start_time": "2018-12-15T02:48:49.809602Z"
    }
   },
   "outputs": [],
   "source": [
    "def quicksort(arr):\n",
    "    _qs(arr, 0, len(arr) - 1)\n",
    "    return arr\n",
    "    \n",
    "def _qs(arr, start, pivot):\n",
    "    if (start >= pivot):\n",
    "        return\n",
    "    # i is the position to switch pivot to at the end,\n",
    "    # anything before it is below pivot\n",
    "    i = start\n",
    "    for j in range(start, pivot):\n",
    "        if arr[j] < arr[pivot]:\n",
    "            arr[j], arr[i] = arr[i], arr[j]\n",
    "            i += 1\n",
    "    arr[i], arr[pivot] = arr[pivot], arr[i]\n",
    "    \n",
    "    _qs(arr, start, i-1)\n",
    "    _qs(arr, i+1, pivot)"
   ]
  },
  {
   "cell_type": "code",
   "execution_count": null,
   "metadata": {
    "ExecuteTime": {
     "end_time": "2018-12-15T00:56:47.214419Z",
     "start_time": "2018-12-15T00:56:47.197950Z"
    }
   },
   "outputs": [],
   "source": [
    "arr = np.random.randn(1000)\n",
    "arr[0:5]\n",
    "quicksort(arr)\n",
    "print(\"Head:\", arr[0:10], \", tail:\", arr[-10:])\n",
    "\n",
    "print(quicksort([2,1]))\n",
    "print(quicksort([3,2,1]))\n",
    "print(quicksort([0,1]))\n",
    "print(quicksort([5,5,3,5,5]))\n",
    "print(quicksort(np.random.randn(10)))"
   ]
  },
  {
   "cell_type": "code",
   "execution_count": 125,
   "metadata": {
    "ExecuteTime": {
     "end_time": "2018-12-15T02:42:33.199401Z",
     "start_time": "2018-12-15T02:42:33.190417Z"
    }
   },
   "outputs": [],
   "source": [
    "def mergesort(arr):\n",
    "    ret = _ms(arr, 0, len(arr) - 1)\n",
    "    return ret\n",
    "    \n",
    "def _ms(arr, start, end):\n",
    "    if end > start:\n",
    "        mid = (end + start)//2\n",
    "        arr1 = _ms(arr, start, mid)\n",
    "        arr2 = _ms(arr, mid + 1, end)\n",
    "        i,j = 0, 0\n",
    "        ret = []\n",
    "        while i <= (mid - start) and j <= (end - mid - 1):\n",
    "            if arr1[i] <= arr2[j]:\n",
    "                ret.append(arr1[i])\n",
    "                i += 1\n",
    "            else:\n",
    "                ret.append(arr2[j])\n",
    "                j += 1\n",
    "        if i <= (mid - start):\n",
    "            ret.extend(arr1[i:])\n",
    "        else:\n",
    "            ret.extend(arr2[j:])\n",
    "        return ret\n",
    "    else:\n",
    "        return [arr[start]]"
   ]
  },
  {
   "cell_type": "code",
   "execution_count": 138,
   "metadata": {
    "ExecuteTime": {
     "end_time": "2018-12-15T02:47:39.826336Z",
     "start_time": "2018-12-15T02:47:39.820847Z"
    }
   },
   "outputs": [],
   "source": [
    "def test_sort(arr):\n",
    "    lastel = arr[0]\n",
    "    for a in arr:\n",
    "        if lastel > a:\n",
    "            raise Exception(\"array is not actually sorted\")\n",
    "        lastel = a"
   ]
  },
  {
   "cell_type": "code",
   "execution_count": 149,
   "metadata": {
    "ExecuteTime": {
     "end_time": "2018-12-15T02:48:19.039087Z",
     "start_time": "2018-12-15T02:48:18.337013Z"
    }
   },
   "outputs": [
    {
     "name": "stdout",
     "output_type": "stream",
     "text": [
      "[-1.0919116282635026, -1.0299601017588476, -0.4630247154602707, -0.14340929295115926, 0.11267342938248333, 0.16858365561800012, 0.45006580507767746, 0.840110760345642, 0.9180340969785102, 1.5518534484083861]\n"
     ]
    }
   ],
   "source": [
    "print(mergesort(np.random.randn(10)))\n",
    "test_sort(mergesort(np.random.randn(100000)));\n",
    "\n",
    "test_sort(quicksort(np.random.randn(100000)))\n",
    "\n",
    "test_sort(sorted(np.random.randn(100000)))\n"
   ]
  },
  {
   "cell_type": "code",
   "execution_count": 190,
   "metadata": {
    "ExecuteTime": {
     "end_time": "2018-12-16T05:52:28.391629Z",
     "start_time": "2018-12-16T05:52:28.385144Z"
    }
   },
   "outputs": [
    {
     "name": "stdout",
     "output_type": "stream",
     "text": [
      "[0, 0, 1, 1, 1]\n",
      "[0, 0, 0, 0, 0, 0, 0, 0, 1, 2, 3, 4, 5]\n",
      "[0, 1, 2, 0, 1, 0, 1, 2, 3, 4, 5, 6, 7, 0, 1, 0, 1, 0, 0, 0, 1, 0, 1, 0, 1, 2, 3, 3, 4, 0]\n",
      "[0, 1, 2, 3, 4]\n",
      "[0, 0, 1, 2, 3, 4, 5, 6, 7, 8, 9, 10, 11]\n"
     ]
    }
   ],
   "source": [
    "def longest_proper_suffix(st):\n",
    "    lps = [0]*len(st)\n",
    "    l = 0\n",
    "    for i in range(1, len(st)):\n",
    "        if st[l] == st[i]:\n",
    "            l += 1\n",
    "        else:\n",
    "            while l > 0 and st[0:l] != st[i-l+1:i+1]:\n",
    "                l -= 1\n",
    "        lps[i] = l\n",
    "    \n",
    "    return lps\n",
    "\n",
    "print(longest_proper_suffix('abaaa'))\n",
    "print(longest_proper_suffix('myprefixmypre'))\n",
    "print(longest_proper_suffix('aaababaaabababababbbababaaaabb'))\n",
    "print(longest_proper_suffix('aaaaa'))\n",
    "print(longest_proper_suffix('ababababababa'))"
   ]
  },
  {
   "cell_type": "code",
   "execution_count": 201,
   "metadata": {
    "ExecuteTime": {
     "end_time": "2018-12-16T18:03:45.981111Z",
     "start_time": "2018-12-16T18:03:45.970132Z"
    }
   },
   "outputs": [
    {
     "name": "stdout",
     "output_type": "stream",
     "text": [
      "[5]\n"
     ]
    }
   ],
   "source": [
    "st = 'aaabaabaaa'\n",
    "pt = 'abaaa'\n",
    "log.setLevel(logging.INFO)\n",
    "\n",
    "def string_search_kmp(st, pt):\n",
    "    lps = longest_proper_suffix(pt)\n",
    "    log.debug(\"suffixes: %s\", lps)\n",
    "    sti, pti, matches = 0, 0, []\n",
    "    pl, sl = len(pt), len(st)\n",
    "    while sti - pti <= sl - pl:\n",
    "        log.debug(\"str index, pattern index: [%d, %d]\", sti, pti)\n",
    "        for i in range(pti, pl):\n",
    "            if st[sti+i] != pt[i]:\n",
    "                log.debug(\"index %d in string doesn't match %d in pattern, exiting\",\n",
    "                          sti+i, i)\n",
    "                log.debug(\"matching pref length: %d\", lps[i-1])\n",
    "                pti = 0 if i == 0 else lps[i-1]\n",
    "                sti += 1 if i == 0 else (i-pti)\n",
    "                break\n",
    "            if i + 1 == pl:\n",
    "                log.debug(\"adding a match starting at place: %d\", sti)\n",
    "                matches.append(sti)\n",
    "                pti = lps[i]\n",
    "                sti += (i+1-pti)\n",
    "    return matches\n",
    "\n",
    "print(string_search_kmp(st, pt))"
   ]
  },
  {
   "cell_type": "code",
   "execution_count": 208,
   "metadata": {
    "ExecuteTime": {
     "end_time": "2018-12-16T18:17:10.184049Z",
     "start_time": "2018-12-16T18:17:10.177564Z"
    }
   },
   "outputs": [
    {
     "name": "stdout",
     "output_type": "stream",
     "text": [
      "[0, 9, 12]\n",
      "[13]\n",
      "[]\n",
      "[0, 1]\n"
     ]
    }
   ],
   "source": [
    "log.setLevel(logging.INFO)\n",
    "print(string_search_kmp(\"AABAACAADAABAABA\", \"AABA\"))\n",
    "print(string_search_kmp(\"AAAAAAAAAAAAAAAAAB\", \"AAAAB\"))\n",
    "print(string_search_kmp(\"ABABABCABABABCABABABC\", \"ABABAC\"))\n",
    "# log.setLevel(logging.DEBUG)\n",
    "print(string_search_kmp(\"AAAAABAAABA\" , \"AAAA\"))"
   ]
  },
  {
   "cell_type": "code",
   "execution_count": 359,
   "metadata": {
    "ExecuteTime": {
     "end_time": "2018-12-16T23:15:21.307231Z",
     "start_time": "2018-12-16T23:15:21.295754Z"
    }
   },
   "outputs": [],
   "source": [
    "def fib_search(arr, x):\n",
    "    al = len(arr)\n",
    "    # avoid worst case\n",
    "    if arr[-1] == x:\n",
    "        return al - 1\n",
    "    elif arr[-1] < x or arr[0] > x:\n",
    "        return None\n",
    "    elif arr[0] == x:\n",
    "        return 0\n",
    "    \n",
    "    fibs, lf, fib_i = [1,1], 1, 1\n",
    "    while lf < al:\n",
    "        lf = fibs[fib_i] + fibs[fib_i-1]\n",
    "        fibs.append(lf)\n",
    "        fib_i += 1\n",
    "    log.debug(\"Fibs: %s\", fibs)\n",
    "    \n",
    "    return _fibsearch(arr, al, 0, fib_i-2, fibs, x)\n",
    "    \n",
    "def _fibsearch(arr, len_arr, start, fib_i, fibs, x):\n",
    "    if fib_i < 0:\n",
    "        return start if arr[start] == x else None\n",
    "    arr_i_mid =  min(len_arr - 1, fibs[fib_i] + start)\n",
    "    arr_v_mid = arr[arr_i_mid]\n",
    "    if x == arr_v_mid:\n",
    "        return arr_i_mid\n",
    "    elif x > arr_v_mid:\n",
    "        log.debug(\"Index value %d is less than x, reducing fib index to %d, setting start ind to %d\",\n",
    "                  arr_i_mid, fib_i - 1, arr_i_mid)\n",
    "        return _fibsearch(arr, len_arr, arr_i_mid, fib_i - 1, fibs, x)\n",
    "    else:\n",
    "        log.debug(\"Index value %d is greater than x, reducing fib index to %d, setting start ind to %d\",\n",
    "                  arr_i_mid, fib_i - 2, start)\n",
    "        return _fibsearch(arr, len_arr, start, fib_i - 2, fibs, x)\n",
    "    "
   ]
  },
  {
   "cell_type": "code",
   "execution_count": 369,
   "metadata": {
    "ExecuteTime": {
     "end_time": "2018-12-16T23:15:44.670569Z",
     "start_time": "2018-12-16T23:15:44.659588Z"
    }
   },
   "outputs": [
    {
     "name": "stderr",
     "output_type": "stream",
     "text": [
      "DEBUG:sorttest:Fibs: [1, 1, 2, 3, 5, 8, 13, 21, 34, 55, 89, 144]\n",
      "DEBUG:sorttest:Index value 55 is greater than x, reducing fib index to 7, setting start ind to 0\n",
      "DEBUG:sorttest:Index value 21 is less than x, reducing fib index to 6, setting start ind to 21\n",
      "DEBUG:sorttest:Index value 34 is greater than x, reducing fib index to 4, setting start ind to 21\n",
      "DEBUG:sorttest:Index value 26 is less than x, reducing fib index to 3, setting start ind to 26\n",
      "DEBUG:sorttest:Index value 29 is greater than x, reducing fib index to 1, setting start ind to 26\n"
     ]
    },
    {
     "name": "stdout",
     "output_type": "stream",
     "text": [
      "[0, 1, 1, 2, 2, 2, 3, 4, 4, 6, 6, 9, 9, 10, 10, 11, 11, 11, 12, 13, 13, 15, 18, 18, 18, 19, 19, 20, 21, 22, 23, 24, 25, 26, 27, 30, 31, 32, 32, 32, 34, 35, 38, 39, 39, 40, 40, 42, 43, 46, 46, 47, 49, 50, 54, 56, 57, 58, 59, 59, 59, 62, 62, 63, 65, 66, 67, 67, 67, 68, 68, 69, 69, 70, 71, 71, 73, 73, 74, 74, 74, 75, 77, 78, 78, 78, 78, 79, 81, 82, 83, 85, 89, 91, 91, 91, 93, 97, 98, 99, 99]\n",
      "27\n",
      "0\n"
     ]
    }
   ],
   "source": [
    "log.setLevel(logging.DEBUG)\n",
    "ra = sorted(np.random.randint(100, size=101))\n",
    "print(ra)\n",
    "search_val = 20\n",
    "ri = fib_search(ra, search_val)\n",
    "print(ri)\n",
    "try:\n",
    "#     assert ri == ra.index(10), f\"found index does not match value from .index call: {ri}\"\n",
    "    assert ra[ri] == search_val\n",
    "except TypeError:\n",
    "    assert search_val not in ra\n",
    "print(fib_search([1,3,4,5,7,18,88], 1))"
   ]
  }
 ],
 "metadata": {
  "kernelspec": {
   "display_name": "Python 3",
   "language": "python",
   "name": "python3"
  },
  "language_info": {
   "codemirror_mode": {
    "name": "ipython",
    "version": 3
   },
   "file_extension": ".py",
   "mimetype": "text/x-python",
   "name": "python",
   "nbconvert_exporter": "python",
   "pygments_lexer": "ipython3",
   "version": "3.6.5"
  }
 },
 "nbformat": 4,
 "nbformat_minor": 2
}

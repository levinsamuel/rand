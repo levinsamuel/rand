{
 "cells": [
  {
   "cell_type": "code",
   "execution_count": 21,
   "metadata": {
    "ExecuteTime": {
     "end_time": "2019-01-02T04:11:19.530402Z",
     "start_time": "2019-01-02T04:11:17.245851Z"
    }
   },
   "outputs": [],
   "source": [
    "sinput=\"\"\"2\n",
    "3 4 2\n",
    "1 1 1\n",
    "3 3 2\n",
    "5 5 2\n",
    "4 1 2\n",
    "3 2 2\"\"\"\n",
    "\n",
    "import logging\n",
    "logging.basicConfig()\n",
    "log = logging.getLogger('jam')\n",
    "\n",
    "import numpy as np\n",
    "import pandas as pd"
   ]
  },
  {
   "cell_type": "code",
   "execution_count": 15,
   "metadata": {
    "ExecuteTime": {
     "end_time": "2019-01-02T04:07:43.213570Z",
     "start_time": "2019-01-02T04:07:43.205574Z"
    }
   },
   "outputs": [
    {
     "data": {
      "text/plain": [
       "[([3, 4, 2], [[1, 1, 1], [3, 3, 2]]), ([5, 5, 2], [[4, 1, 2], [3, 2, 2]])]"
      ]
     },
     "execution_count": 15,
     "metadata": {},
     "output_type": "execute_result"
    }
   ],
   "source": [
    "def parse_input(inp):\n",
    "    lines = [[int(n) for n in line.split()] for line in inp.split('\\n')]\n",
    "    casenum = lines.pop(0)[0]\n",
    "    cases = []\n",
    "    for _ in range(casenum):\n",
    "        grid = lines.pop(0)\n",
    "        S = grid[2]\n",
    "        stations = []\n",
    "        for _ in range(S):\n",
    "            stations.append(lines.pop(0))\n",
    "        cases.append((grid, stations))\n",
    "    \n",
    "    return cases\n",
    "        \n",
    "parse_input(sinput)"
   ]
  },
  {
   "cell_type": "code",
   "execution_count": 46,
   "metadata": {
    "ExecuteTime": {
     "end_time": "2019-01-03T05:24:05.034848Z",
     "start_time": "2019-01-03T05:24:05.022855Z"
    }
   },
   "outputs": [],
   "source": [
    "class Grid:\n",
    "    \n",
    "    def __init__(self, stations):\n",
    "        self.stations = stations\n",
    "        \n",
    "        \n",
    "class Station:\n",
    "    \n",
    "    def __init__(self):\n",
    "        self.size = 0\n",
    "        self.weighted_size = 0\n",
    "        self.block = 0"
   ]
  },
  {
   "cell_type": "code",
   "execution_count": 45,
   "metadata": {
    "ExecuteTime": {
     "end_time": "2019-01-03T05:18:24.932871Z",
     "start_time": "2019-01-03T05:18:24.844920Z"
    }
   },
   "outputs": [
    {
     "data": {
      "text/plain": [
       "array([[{2}, {2}, {2}, {2}, set()],\n",
       "       [{1, 2}, {1, 2}, {1, 2}, {2}, set()],\n",
       "       [{1, 2}, 2, {1, 2}, {2}, set()],\n",
       "       [1, {1, 2}, {1, 2}, {2}, set()],\n",
       "       [{1, 2}, {1, 2}, {1, 2}, {2}, set()]], dtype=object)"
      ]
     },
     "execution_count": 45,
     "metadata": {},
     "output_type": "execute_result"
    }
   ],
   "source": [
    "def assign_grid(case):\n",
    "    shape = case[0]\n",
    "    r, c = shape[0], shape[1]\n",
    "    grid = [set() for _ in range(r*c)]\n",
    "    \n",
    "    for x, station in enumerate(case[1]):\n",
    "        sn = x+1\n",
    "        reach = station[2]\n",
    "        sr, sc = station[0], station[1]\n",
    "        grid[(sr-1)*c + sc - 1] = sn\n",
    "        for i in range(max(1, sr-reach), min(r, sr+reach)+1):\n",
    "            for j in range(max(1, sc-reach), min(c, sc+reach)+1):\n",
    "                try:\n",
    "                    x = (i-1)*c + j - 1\n",
    "                    grid[x].add(sn)\n",
    "                except AttributeError:\n",
    "                    pass\n",
    "                    \n",
    "    return grid\n",
    "    \n",
    "cases = parse_input(sinput)\n",
    "maps = [assign_grid(c) for c in cases]\n",
    "arr = np.array(maps[1])\n",
    "arr.reshape(5,5)"
   ]
  },
  {
   "cell_type": "code",
   "execution_count": null,
   "metadata": {},
   "outputs": [],
   "source": [
    "def "
   ]
  }
 ],
 "metadata": {
  "kernelspec": {
   "display_name": "Python 3",
   "language": "python",
   "name": "python3"
  },
  "language_info": {
   "codemirror_mode": {
    "name": "ipython",
    "version": 3
   },
   "file_extension": ".py",
   "mimetype": "text/x-python",
   "name": "python",
   "nbconvert_exporter": "python",
   "pygments_lexer": "ipython3",
   "version": "3.6.5"
  }
 },
 "nbformat": 4,
 "nbformat_minor": 2
}

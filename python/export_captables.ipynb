{
"cells": [
 {
  "cell_type": "code",
  "execution_count": 1,
  "metadata": {},
  "outputs": [],
  "source": [
   "import csv\n",
   "from pathlib import Path\n",
   "import os\n",
   "import json"
  ]
 },
 {
  "cell_type": "code",
  "execution_count": 2,
  "metadata": {},
  "outputs": [],
  "source": [
   "home = os.environ['HOME']"
  ]
 },
 {
  "cell_type": "code",
  "execution_count": 3,
  "metadata": {},
  "outputs": [],
  "source": [
   "f = Path('{HOME}/Downloads/common-only.csv'.format(HOME=home))"
  ]
 },
 {
  "cell_type": "code",
  "execution_count": 6,
  "metadata": {},
  "outputs": [],
  "source": [
   "\n",
   "def quoted(val):\n",
   "    isnum = True\n",
   "    try:\n",
   "        float(val)\n",
   "    except ValueError:\n",
   "        isnum = False\n",
   "    if val in {'TRUE', 'FALSE'}:\n",
   "        return val[0] + val[1:].lower()\n",
   "    elif val.startswith('{'):\n",
   "        return json.loads(val)\n",
   "    elif (not isnum):\n",
   "        return '\"{}\"'.format(val)\n",
   "    else:\n",
   "        return val"
  ]
 },
 {
  "cell_type": "code",
  "execution_count": 7,
  "metadata": {},
  "outputs": [
   {
    "name": "stdout",
    "output_type": "stream",
    "text": [
     "['id', 'key', 'share_class_key', 'name', 'corporation_pk', 'security_type', 'outstanding_quantity', 'quantity_held_by_org', 'seniority', 'principal', 'exercise_price', 'original_issue_price', 'conversion_ratio', 'multiplier', 'participating_preferred', 'preference_cap', 'dividend_type', 'interest_rate', 'interest_accrual', 'interest_compounding', 'day_count_convention', 'interest_calculation_data', 'valuation_cap', 'note_type', 'earliest_issue_date', 'latest_issue_date', 'backsolve_id', 'valuation_id', 'created', 'created_by_id', 'is_void', 'modified', 'available_quantity', 'option_plan_key', 'discount_percent', 'captable_id']\n"
    ]
   }
  ],
  "source": [
   "with open(f, 'r', newline='') as plainrdr:                    \n",
   "    rdr = csv.reader(plainrdr, delimiter=',', quotechar='\"')\n",
   "    head = next(rdr)\n",
   "    keys = head\n",
   "    print(keys)\n",
   "    excludes = {'id', 'corporation_pk', 'valuation_id', 'backsolve_id','created', 'created_by_id', 'is_void', 'modified', 'captable_id'}\n",
   "    global data\n",
   "    data=[]\n",
   "    for line in rdr:\n",
   "        la = line\n",
   "        d = {key: quoted(val) for key, val in zip(keys, la) if key not in excludes and val != 'NULL'}\n",
   "        \n",
   "        data.append('CaptableData(\\n' + '\\n'.join('    {}={},'.format(k,v) for k,v in d.items()) + '\\n),')\n"
  ]
 },
 {
  "cell_type": "code",
  "execution_count": 8,
  "metadata": {},
  "outputs": [],
  "source": [
   "with open('{HOME}/tmp/data_sample.txt'.format(HOME=home), 'w') as out:\n",
   "    out.write('\\n'.join(data))"
  ]
 },
 {
  "cell_type": "code",
  "execution_count": null,
  "metadata": {},
  "outputs": [],
  "source": [
   "data"
  ]
 }
],
"metadata": {
 "kernelspec": {
  "display_name": "Python 3",
  "language": "python",
  "name": "python3"
 },
 "language_info": {
  "codemirror_mode": {
   "name": "ipython",
   "version": 3
  },
  "file_extension": ".py",
  "mimetype": "text/x-python",
  "name": "python",
  "nbconvert_exporter": "python",
  "pygments_lexer": "ipython3",
  "version": "3.6.7"
 }
},
"nbformat": 4,
"nbformat_minor": 2
}

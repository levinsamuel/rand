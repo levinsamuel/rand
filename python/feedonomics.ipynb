{
 "cells": [
  {
   "cell_type": "code",
   "execution_count": 10,
   "metadata": {
    "ExecuteTime": {
     "end_time": "2019-01-18T17:43:07.169422Z",
     "start_time": "2019-01-18T17:43:07.161936Z"
    }
   },
   "outputs": [],
   "source": [
    "sn = lambda nn: \"<{}>\".format(nn)\n",
    "en = lambda nn: \"</{}>\".format(nn)\n",
    "# pretend we're xml encoding\n",
    "encodexml = lambda txt: str(txt)"
   ]
  },
  {
   "cell_type": "code",
   "execution_count": 2,
   "metadata": {
    "ExecuteTime": {
     "end_time": "2019-01-18T17:29:52.873341Z",
     "start_time": "2019-01-18T17:29:52.857867Z"
    }
   },
   "outputs": [
    {
     "data": {
      "text/plain": [
       "'<product>'"
      ]
     },
     "execution_count": 2,
     "metadata": {},
     "output_type": "execute_result"
    }
   ],
   "source": [
    "sn('product')"
   ]
  },
  {
   "cell_type": "code",
   "execution_count": 25,
   "metadata": {
    "ExecuteTime": {
     "end_time": "2019-01-18T18:04:20.703313Z",
     "start_time": "2019-01-18T18:04:20.698821Z"
    }
   },
   "outputs": [],
   "source": [
    "strct = {'product/id': 0,\n",
    "          'product/shipping/country': 1,\n",
    "          'product/shipping/method': 2,\n",
    "          }\n",
    "\n",
    "data = [1, 'US', '1-day', 'shirt']"
   ]
  },
  {
   "cell_type": "code",
   "execution_count": 31,
   "metadata": {
    "ExecuteTime": {
     "end_time": "2019-01-18T18:06:43.236410Z",
     "start_time": "2019-01-18T18:06:43.225430Z"
    }
   },
   "outputs": [
    {
     "data": {
      "text/plain": [
       "{'product': {'id': 0, 'shipping': {'country': 1, 'method': 2}}}"
      ]
     },
     "execution_count": 31,
     "metadata": {},
     "output_type": "execute_result"
    }
   ],
   "source": [
    "def pathmap_to_tree(dr):\n",
    "    \n",
    "    nestedmap = {}\n",
    "    for path, val in dr.items():\n",
    "        paths = path.split('/')\n",
    "        pl = len(paths)\n",
    "        mapnode = nestedmap\n",
    "        for i in range(pl):\n",
    "            current = paths[i]\n",
    "            if (i+1) < pl:\n",
    "                try:\n",
    "                    mapnode = mapnode[current]\n",
    "                except KeyError:\n",
    "                    mapnode[current] = {}\n",
    "                    mapnode = mapnode[current]\n",
    "            else:\n",
    "                mapnode[current] = val\n",
    "    return nestedmap\n",
    "\n",
    "pathmap_to_tree(strct)"
   ]
  },
  {
   "cell_type": "code",
   "execution_count": 37,
   "metadata": {
    "ExecuteTime": {
     "end_time": "2019-01-18T18:08:44.076614Z",
     "start_time": "2019-01-18T18:08:44.067628Z"
    }
   },
   "outputs": [
    {
     "data": {
      "text/plain": [
       "'<product><id>1</id><shipping><country>US</country><method>1-day</method></shipping></product>'"
      ]
     },
     "execution_count": 37,
     "metadata": {},
     "output_type": "execute_result"
    }
   ],
   "source": [
    "def tree_to_xml(tr, dt, parent):\n",
    "    \n",
    "    string = []\n",
    "    try: \n",
    "#         print (tr)\n",
    "        for node, vals in tr.items():\n",
    "            string.append(sn(node))\n",
    "            string.append(tree_to_xml(vals, dt, node))\n",
    "            string.append(en(node))\n",
    "    except AttributeError:\n",
    "#         print(parent)\n",
    "        return encodexml(data[tr])\n",
    "    \n",
    "    return ''.join(string)\n",
    "\n",
    "tree_to_xml(pathmap_to_tree(strct), data, None)"
   ]
  },
  {
   "cell_type": "code",
   "execution_count": 32,
   "metadata": {
    "ExecuteTime": {
     "end_time": "2019-01-18T18:06:58.726175Z",
     "start_time": "2019-01-18T18:06:58.716194Z"
    }
   },
   "outputs": [
    {
     "data": {
      "text/plain": [
       "{'product': {'id': [0],\n",
       "  'shipping': {'country': [1], 'method': [2]},\n",
       "  'labels': {'label': [3, 4, 5]}}}"
      ]
     },
     "execution_count": 32,
     "metadata": {},
     "output_type": "execute_result"
    }
   ],
   "source": [
    "strctl = {'product/id': [0],\n",
    "          'product/shipping/country': [1],\n",
    "          'product/shipping/method': [2],\n",
    "          'product/labels/label': [3,4,5]\n",
    "          }\n",
    "\n",
    "datal = [1, 'US', '1-day', 'shirt', 'clothes', 'nice clothes']\n",
    "pathmap_to_tree(strctl)"
   ]
  },
  {
   "cell_type": "code",
   "execution_count": 45,
   "metadata": {
    "ExecuteTime": {
     "end_time": "2019-01-18T18:12:07.117900Z",
     "start_time": "2019-01-18T18:12:07.102410Z"
    }
   },
   "outputs": [
    {
     "name": "stdout",
     "output_type": "stream",
     "text": [
      "[0]\n",
      "<id>1</id>\n",
      "[1]\n",
      "<country>US</country>\n",
      "[2]\n",
      "<method>1-day</method>\n",
      "[3, 4, 5]\n",
      "<label>shirt</label><label>clothes</label><label>nice clothes</label>\n"
     ]
    },
    {
     "data": {
      "text/plain": [
       "'<product><id>1</id><shipping><country>US</country><method>1-day</method></shipping><labels><label>shirt</label><label>clothes</label><label>nice clothes</label></labels></product>'"
      ]
     },
     "execution_count": 45,
     "metadata": {},
     "output_type": "execute_result"
    }
   ],
   "source": [
    "def tree_to_xml_list(tr, dt, parent):\n",
    "    \n",
    "    string = []\n",
    "    try: \n",
    "#         print (tr)\n",
    "        for node, vals in tr.items():\n",
    "            if (isinstance(vals, dict)):\n",
    "                string.append(sn(node))\n",
    "            string.append(tree_to_xml_list(vals, dt, node))\n",
    "            if (isinstance(vals, dict)):\n",
    "                string.append(en(node))\n",
    "    except AttributeError:\n",
    "        child = []\n",
    "        print(tr)\n",
    "        for i in tr:\n",
    "            child.append(sn(parent))\n",
    "            child.append(encodexml(dt[i]))\n",
    "            child.append(en(parent))\n",
    "        ret = ''.join(child)\n",
    "        print(ret)\n",
    "        return ret\n",
    "    \n",
    "    return ''.join(string)\n",
    "\n",
    "tree_to_xml_list(pathmap_to_tree(strctl), datal, None)\n",
    "\n",
    "# isinstance([], dict)"
   ]
  },
  {
   "cell_type": "code",
   "execution_count": 46,
   "metadata": {
    "ExecuteTime": {
     "end_time": "2019-01-18T18:15:51.116693Z",
     "start_time": "2019-01-18T18:15:51.104716Z"
    }
   },
   "outputs": [
    {
     "data": {
      "text/plain": [
       "{'product': {'id': [0],\n",
       "  'shipping': {'country': [1], 'method': [2]},\n",
       "  'labels': {'label': [3, 4, 5]}}}"
      ]
     },
     "execution_count": 46,
     "metadata": {},
     "output_type": "execute_result"
    }
   ],
   "source": [
    "strct = {'product/id': 0,\n",
    "          'product/shipping/country': 1,\n",
    "          'product/shipping/method': 2,\n",
    "          }\n",
    "\n",
    "def pathmap_to_tree(dr):\n",
    "    \n",
    "    nestedmap = {}\n",
    "    for path, val in dr.items():\n",
    "        paths = path.split('/')\n",
    "        pl = len(paths)\n",
    "        mapnode = nestedmap\n",
    "        for i in range(pl):\n",
    "            current = paths[i]\n",
    "            if (i+1) < pl:\n",
    "                try:\n",
    "                    mapnode = mapnode[current]\n",
    "                except KeyError:\n",
    "                    mapnode[current] = {}\n",
    "                    mapnode = mapnode[current]\n",
    "            else:\n",
    "                mapnode[current] = val\n",
    "    return nestedmap\n",
    "\n",
    "pathmap_to_tree(strctl)"
   ]
  }
 ],
 "metadata": {
  "kernelspec": {
   "display_name": "Python 3",
   "language": "python",
   "name": "python3"
  },
  "language_info": {
   "codemirror_mode": {
    "name": "ipython",
    "version": 3
   },
   "file_extension": ".py",
   "mimetype": "text/x-python",
   "name": "python",
   "nbconvert_exporter": "python",
   "pygments_lexer": "ipython3",
   "version": "3.6.5"
  }
 },
 "nbformat": 4,
 "nbformat_minor": 2
}

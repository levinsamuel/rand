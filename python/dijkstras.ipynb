{
 "cells": [
  {
   "cell_type": "code",
   "execution_count": 1,
   "metadata": {
    "ExecuteTime": {
     "end_time": "2018-12-12T23:52:38.873710Z",
     "start_time": "2018-12-12T23:52:38.865743Z"
    }
   },
   "outputs": [],
   "source": [
    "import sys, math\n",
    "import pprint\n",
    "debug = True\n",
    "\n",
    "class Node:\n",
    "    def __init__(self, num):\n",
    "        self.num = num\n",
    "        self.routes = []\n",
    "        self.dist = math.inf\n",
    "    def __str__(self):\n",
    "        return f\"node num: {self.num}, distance: {self.dist}\"\n",
    "    def __repr__(self):\n",
    "        return self.__str__()\n",
    "\n",
    "class Edge:\n",
    "    def __init__(self, backNode, foreNode, dist):\n",
    "        self.back = backNode\n",
    "        self.fore = foreNode\n",
    "        self.dist = dist\n"
   ]
  },
  {
   "cell_type": "code",
   "execution_count": 2,
   "metadata": {
    "ExecuteTime": {
     "end_time": "2018-12-12T23:52:38.914135Z",
     "start_time": "2018-12-12T23:52:38.877203Z"
    }
   },
   "outputs": [],
   "source": [
    "def build(mx, startN=0):\n",
    "    \"\"\"Build graph that has links to the next node and the node 3 times\n",
    "away.\"\"\"\n",
    "    nodes = [Node(i) for i in range(startN, mx + 1)]\n",
    "    for i in range(startN, mx):\n",
    "        ind = i - startN\n",
    "        n = nodes[ind]\n",
    "        n1 = nodes[ind+1]\n",
    "        e = Edge(n, n1, 1)\n",
    "        n.routes.append(e)\n",
    "        if 3*i <= mx:\n",
    "            n3 = nodes[i*3 - startN]\n",
    "            e = Edge(n, n3, 1)\n",
    "            n.routes.append(e)\n",
    "    \n",
    "    return nodes\n",
    "    \n",
    "def sortList(l):\n",
    "    l.sort(key=lambda n: n.dist)\n",
    "    \n",
    "def getMin(l):\n",
    "    return min(l, key=lambda n: n.dist)\n",
    "\n",
    "def log(msg):\n",
    "    if debug:\n",
    "        sys.stderr.write(str(msg) + \"\\n\")"
   ]
  },
  {
   "cell_type": "code",
   "execution_count": 3,
   "metadata": {
    "ExecuteTime": {
     "end_time": "2018-12-12T23:52:38.941585Z",
     "start_time": "2018-12-12T23:52:38.917627Z"
    }
   },
   "outputs": [
    {
     "name": "stdout",
     "output_type": "stream",
     "text": [
      "2\n"
     ]
    }
   ],
   "source": [
    "l=[2,5,6]\n",
    "print(l.pop(0))"
   ]
  },
  {
   "cell_type": "code",
   "execution_count": 4,
   "metadata": {
    "ExecuteTime": {
     "end_time": "2018-12-12T23:52:38.960548Z",
     "start_time": "2018-12-12T23:52:38.946075Z"
    }
   },
   "outputs": [],
   "source": [
    "def dijkstras(nodes, end):\n",
    "    nodes[0].dist = 0\n",
    "    seen = {}\n",
    "    # copy list\n",
    "    nl = list(nodes)\n",
    "    \n",
    "    pathlen = 0\n",
    "    lengths = [0, math.inf]\n",
    "    bylen = {}\n",
    "    \n",
    "    while len(nl) > 0:\n",
    "        \n",
    "        cur = nl.pop(0)\n",
    "        seen[cur.num] = cur\n",
    "        if cur.num == end:\n",
    "            break\n",
    "        log(f\"reading node {cur}\")\n",
    "        for e in cur.routes:\n",
    "            dist = cur.dist + e.dist\n",
    "            if dist < e.fore.dist:\n",
    "                log(f\"setting dist of {dist} on node {e.fore}\")\n",
    "                e.fore.dist = dist\n",
    "    return seen, nl\n",
    "    "
   ]
  },
  {
   "cell_type": "code",
   "execution_count": 5,
   "metadata": {
    "ExecuteTime": {
     "end_time": "2018-12-12T23:52:44.615028Z",
     "start_time": "2018-12-12T23:52:38.964043Z"
    }
   },
   "outputs": [
    {
     "name": "stdout",
     "output_type": "stream",
     "text": [
      "number not seen: 3785\n"
     ]
    }
   ],
   "source": [
    "debug = False\n",
    "nodes = build(10000, startN=1)\n",
    "seen, notseen = dijkstras(nodes, 10000)\n",
    "print(f\"number not seen: {len(notseen)}\")\n",
    "# pprint.pprint(seen)"
   ]
  },
  {
   "cell_type": "code",
   "execution_count": 6,
   "metadata": {
    "ExecuteTime": {
     "end_time": "2018-12-12T23:52:44.625531Z",
     "start_time": "2018-12-12T23:52:44.618029Z"
    }
   },
   "outputs": [],
   "source": [
    "def distanceTo(n):\n",
    "    dist = 0\n",
    "    num = n\n",
    "    while num > 1:\n",
    "        rem = num % 3\n",
    "        if rem == 0:\n",
    "            dist += 1\n",
    "            num = num // 3\n",
    "        else:\n",
    "            num -= 1\n",
    "            dist += 1\n",
    "        log(f\"num: {num}\")\n",
    "    return dist\n",
    "        "
   ]
  },
  {
   "cell_type": "code",
   "execution_count": 7,
   "metadata": {
    "ExecuteTime": {
     "end_time": "2018-12-12T23:52:44.669427Z",
     "start_time": "2018-12-12T23:52:44.632996Z"
    }
   },
   "outputs": [
    {
     "name": "stdout",
     "output_type": "stream",
     "text": [
      "15\n"
     ]
    },
    {
     "name": "stderr",
     "output_type": "stream",
     "text": [
      "num: 5386\n",
      "num: 5385\n",
      "num: 1795\n",
      "num: 1794\n",
      "num: 598\n",
      "num: 597\n",
      "num: 199\n",
      "num: 198\n",
      "num: 66\n",
      "num: 22\n",
      "num: 21\n",
      "num: 7\n",
      "num: 6\n",
      "num: 2\n",
      "num: 1\n"
     ]
    }
   ],
   "source": [
    "debug = True\n",
    "print (distanceTo(5387))\n"
   ]
  },
  {
   "cell_type": "code",
   "execution_count": null,
   "metadata": {},
   "outputs": [],
   "source": []
  }
 ],
 "metadata": {
  "kernelspec": {
   "display_name": "Python 3",
   "language": "python",
   "name": "python3"
  },
  "language_info": {
   "codemirror_mode": {
    "name": "ipython",
    "version": 3
   },
   "file_extension": ".py",
   "mimetype": "text/x-python",
   "name": "python",
   "nbconvert_exporter": "python",
   "pygments_lexer": "ipython3",
   "version": "3.6.5"
  }
 },
 "nbformat": 4,
 "nbformat_minor": 2
}
